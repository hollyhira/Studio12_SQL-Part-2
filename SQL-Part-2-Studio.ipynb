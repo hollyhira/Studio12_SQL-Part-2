{
    "metadata": {
        "kernelspec": {
            "name": "SQL",
            "display_name": "SQL",
            "language": "sql"
        },
        "language_info": {
            "name": "sql",
            "version": ""
        },
        "extensions": {
            "azuredatastudio": {
                "version": 1,
                "views": []
            }
        }
    },
    "nbformat_minor": 2,
    "nbformat": 4,
    "cells": [
        {
            "cell_type": "markdown",
            "source": [
                "# Lesson 11: SQL Part 2 Studio\n",
                "\n",
                "> This studio asks you to create queries using the functions from this lesson. As you work through the studio, you may need to create more than one query to return the desired answer.  For others, you may need to combine functions together in order to answer the original query.  The questions have been organized in a way to help you puzzle out the answers.\n",
                "> \n",
                "> Happy querying! \n",
                "\n",
                "**The Dataset:**   \n",
                "\n",
                "> We will be working with the **BooksDB dataset** from Lesson 10.  You should already have access to it."
            ],
            "metadata": {
                "azdata_cell_guid": "bbaa021d-dbcb-4f90-a05f-f280d524589a"
            },
            "attachments": {}
        },
        {
            "cell_type": "markdown",
            "source": [
                "## The Questions:"
            ],
            "metadata": {
                "azdata_cell_guid": "bfc33995-70d4-4403-a870-39244e5e9727"
            }
        },
        {
            "cell_type": "markdown",
            "source": [
                "1.  Create a query that returns the longest title in the dataset.  We can do this in two steps.\n",
                "\n",
                "> A. Create a query that returns the length of the longest title.\n",
                "> \n",
                "> B. Create a query that uses the length you found in step A to find the longest title."
            ],
            "metadata": {
                "azdata_cell_guid": "29e63840-f200-4b1b-9239-4dc60a402c1d"
            },
            "attachments": {}
        },
        {
            "cell_type": "code",
            "source": [
                "-- Code here:\r\n",
                "USE BooksDB\r\n",
                "SELECT TOP(1) Title, LEN(Title) AS 'LONGEST TITLE LENGTH' FROM books ORDER BY LEN(Title) DESC\r\n",
                "\r\n",
                "\r\n",
                "USE BooksDB\r\n",
                "SELECT TOP(1) Title, LEN (Title) AS 'SHORTEST TITLE LENGTH' FROM books ORDER BY LEN(Title) ASC\r\n",
                "\r\n",
                "USE BooksDB\r\n",
                "SELECT MAX(LEN(Title)) from books\r\n",
                "\r\n",
                "USE BooksDB\r\n",
                "SELECT Title FROM books WHERE LEN(Title)=186\r\n",
                "-- USE BooksDB\r\n",
                "-- SELECT TOP(10) Title, LEN(Title) AS 'TITLE LENGTH' FROM books ORDER BY LEN(Title)"
            ],
            "metadata": {
                "azdata_cell_guid": "fc1a211d-ea4e-446a-bbf8-e31499c50aba",
                "language": "sql"
            },
            "outputs": [
                {
                    "output_type": "display_data",
                    "data": {
                        "text/html": "(1 row affected)"
                    },
                    "metadata": {}
                },
                {
                    "output_type": "display_data",
                    "data": {
                        "text/html": "(1 row affected)"
                    },
                    "metadata": {}
                },
                {
                    "output_type": "display_data",
                    "data": {
                        "text/html": "(1 row affected)"
                    },
                    "metadata": {}
                },
                {
                    "output_type": "display_data",
                    "data": {
                        "text/html": "(1 row affected)"
                    },
                    "metadata": {}
                },
                {
                    "output_type": "display_data",
                    "data": {
                        "text/html": "Total execution time: 00:00:00.148"
                    },
                    "metadata": {}
                },
                {
                    "output_type": "execute_result",
                    "metadata": {},
                    "execution_count": 3,
                    "data": {
                        "application/vnd.dataresource+json": {
                            "schema": {
                                "fields": [
                                    {
                                        "name": "Title"
                                    },
                                    {
                                        "name": "LONGEST TITLE LENGTH"
                                    }
                                ]
                            },
                            "data": [
                                {
                                    "0": "Soccernomics: Why England Loses, Why Germany and Brazil Win, and Why the U.S., Japan, Australia, Turkey--and Even Iraq--Are Destined to Become the Kings of the World's Most Popular Sport",
                                    "1": "186"
                                }
                            ]
                        },
                        "text/html": [
                            "<table>",
                            "<tr><th>Title</th><th>LONGEST TITLE LENGTH</th></tr>",
                            "<tr><td>Soccernomics: Why England Loses, Why Germany and Brazil Win, and Why the U.S., Japan, Australia, Turkey--and Even Iraq--Are Destined to Become the Kings of the World's Most Popular Sport</td><td>186</td></tr>",
                            "</table>"
                        ]
                    }
                },
                {
                    "output_type": "execute_result",
                    "metadata": {},
                    "execution_count": 3,
                    "data": {
                        "application/vnd.dataresource+json": {
                            "schema": {
                                "fields": [
                                    {
                                        "name": "Title"
                                    },
                                    {
                                        "name": "SHORTEST TITLE LENGTH"
                                    }
                                ]
                            },
                            "data": [
                                {
                                    "0": "It",
                                    "1": "2"
                                }
                            ]
                        },
                        "text/html": [
                            "<table>",
                            "<tr><th>Title</th><th>SHORTEST TITLE LENGTH</th></tr>",
                            "<tr><td>It</td><td>2</td></tr>",
                            "</table>"
                        ]
                    }
                },
                {
                    "output_type": "execute_result",
                    "metadata": {},
                    "execution_count": 3,
                    "data": {
                        "application/vnd.dataresource+json": {
                            "schema": {
                                "fields": [
                                    {
                                        "name": "(No column name)"
                                    }
                                ]
                            },
                            "data": [
                                {
                                    "0": "186"
                                }
                            ]
                        },
                        "text/html": [
                            "<table>",
                            "<tr><th>(No column name)</th></tr>",
                            "<tr><td>186</td></tr>",
                            "</table>"
                        ]
                    }
                },
                {
                    "output_type": "execute_result",
                    "metadata": {},
                    "execution_count": 3,
                    "data": {
                        "application/vnd.dataresource+json": {
                            "schema": {
                                "fields": [
                                    {
                                        "name": "Title"
                                    }
                                ]
                            },
                            "data": [
                                {
                                    "0": "Soccernomics: Why England Loses, Why Germany and Brazil Win, and Why the U.S., Japan, Australia, Turkey--and Even Iraq--Are Destined to Become the Kings of the World's Most Popular Sport"
                                }
                            ]
                        },
                        "text/html": [
                            "<table>",
                            "<tr><th>Title</th></tr>",
                            "<tr><td>Soccernomics: Why England Loses, Why Germany and Brazil Win, and Why the U.S., Japan, Australia, Turkey--and Even Iraq--Are Destined to Become the Kings of the World's Most Popular Sport</td></tr>",
                            "</table>"
                        ]
                    }
                }
            ],
            "execution_count": 3
        },
        {
            "cell_type": "markdown",
            "source": [
                "2.  Use what you learned in question 1 to find the shortest author name.  \n",
                "\n",
                "> A. Create a query that returns the length of the shortest author.\n",
                "> \n",
                "> B. Create a query that returns the shortest author's name."
            ],
            "metadata": {
                "azdata_cell_guid": "5de64491-7324-44ce-bda4-e22b07229854"
            },
            "attachments": {}
        },
        {
            "cell_type": "code",
            "source": [
                "-- Code here:\r\n",
                "USE BooksDB\r\n",
                "SELECT TOP(1) authors, LEN(authors) AS 'LONGEST AUTHOR NAME' FROM books ORDER BY LEN(authors) DESC\r\n",
                "\r\n",
                "\r\n",
                "USE BooksDB\r\n",
                "SELECT TOP(1) authors, LEN (authors) AS 'SHORTEST AUTHOR NAME' FROM books ORDER BY LEN(authors) ASC\r\n",
                "\r\n",
                "Use BooksDB\r\n",
                "SELECT DISTINCT(authors), LEN (authors) AS 'SHORTEST AUTHOR NAME' FROM books WHERE LEN(authors)=5\r\n",
                "\r\n",
                "\r\n",
                ""
            ],
            "metadata": {
                "azdata_cell_guid": "61423c75-cb55-470f-b062-a1901d3da67c",
                "language": "sql"
            },
            "outputs": [
                {
                    "output_type": "display_data",
                    "data": {
                        "text/html": "(1 row affected)"
                    },
                    "metadata": {}
                },
                {
                    "output_type": "display_data",
                    "data": {
                        "text/html": "(1 row affected)"
                    },
                    "metadata": {}
                },
                {
                    "output_type": "display_data",
                    "data": {
                        "text/html": "(3 rows affected)"
                    },
                    "metadata": {}
                },
                {
                    "output_type": "display_data",
                    "data": {
                        "text/html": "Total execution time: 00:00:00.133"
                    },
                    "metadata": {}
                },
                {
                    "output_type": "execute_result",
                    "metadata": {},
                    "execution_count": 4,
                    "data": {
                        "application/vnd.dataresource+json": {
                            "schema": {
                                "fields": [
                                    {
                                        "name": "authors"
                                    },
                                    {
                                        "name": "LONGEST AUTHOR NAME"
                                    }
                                ]
                            },
                            "data": [
                                {
                                    "0": "Christopher Hitchens, Titus Lucretius Carus, Omar Khayyám, Thomas Hobbes, Baruch Spinoza, David Hume, James Boswell, Percy Bysshe Shelley, George Eliot, Charles Darwin, Leslie Stephen, Anatole France, Mark Twain, Joseph Conrad, Thomas Hardy, Emma Goldman, H.P. Lovecraft, Carl Van Doren, H.L. Mencken, Sigmund Freud, Albert Einstein, George Orwell, John Betjeman, Chapman Cohen, Bertrand Russell, Philip Larkin, Martin Gardner, Carl Sagan, John Updike, John Leslie Mackie, Michael Shermer, A.J. Ayer, Daniel C. Dennett, Charles Templeton, Richard Dawkins, Victor J. Stenger, Elizabeth S.  Anderson, Penn Jillette, Ian McEwan, Steven Weinberg, Salman Rushdie, Ibn Warraq, Sam Harris, A.C. Grayling, Ayaan Hirsi Ali, John Stuart Mill, Karl Marx",
                                    "1": "742"
                                }
                            ]
                        },
                        "text/html": [
                            "<table>",
                            "<tr><th>authors</th><th>LONGEST AUTHOR NAME</th></tr>",
                            "<tr><td>Christopher Hitchens, Titus Lucretius Carus, Omar Khayyám, Thomas Hobbes, Baruch Spinoza, David Hume, James Boswell, Percy Bysshe Shelley, George Eliot, Charles Darwin, Leslie Stephen, Anatole France, Mark Twain, Joseph Conrad, Thomas Hardy, Emma Goldman, H.P. Lovecraft, Carl Van Doren, H.L. Mencken, Sigmund Freud, Albert Einstein, George Orwell, John Betjeman, Chapman Cohen, Bertrand Russell, Philip Larkin, Martin Gardner, Carl Sagan, John Updike, John Leslie Mackie, Michael Shermer, A.J. Ayer, Daniel C. Dennett, Charles Templeton, Richard Dawkins, Victor J. Stenger, Elizabeth S.  Anderson, Penn Jillette, Ian McEwan, Steven Weinberg, Salman Rushdie, Ibn Warraq, Sam Harris, A.C. Grayling, Ayaan Hirsi Ali, John Stuart Mill, Karl Marx</td><td>742</td></tr>",
                            "</table>"
                        ]
                    }
                },
                {
                    "output_type": "execute_result",
                    "metadata": {},
                    "execution_count": 4,
                    "data": {
                        "application/vnd.dataresource+json": {
                            "schema": {
                                "fields": [
                                    {
                                        "name": "authors"
                                    },
                                    {
                                        "name": "SHORTEST AUTHOR NAME"
                                    }
                                ]
                            },
                            "data": [
                                {
                                    "0": "Avi",
                                    "1": "3"
                                }
                            ]
                        },
                        "text/html": [
                            "<table>",
                            "<tr><th>authors</th><th>SHORTEST AUTHOR NAME</th></tr>",
                            "<tr><td>Avi</td><td>3</td></tr>",
                            "</table>"
                        ]
                    }
                },
                {
                    "output_type": "execute_result",
                    "metadata": {},
                    "execution_count": 4,
                    "data": {
                        "application/vnd.dataresource+json": {
                            "schema": {
                                "fields": [
                                    {
                                        "name": "authors"
                                    },
                                    {
                                        "name": "SHORTEST AUTHOR NAME"
                                    }
                                ]
                            },
                            "data": [
                                {
                                    "0": "Hafez",
                                    "1": "5"
                                },
                                {
                                    "0": "Hergé",
                                    "1": "5"
                                },
                                {
                                    "0": "Tijan",
                                    "1": "5"
                                }
                            ]
                        },
                        "text/html": [
                            "<table>",
                            "<tr><th>authors</th><th>SHORTEST AUTHOR NAME</th></tr>",
                            "<tr><td>Hafez</td><td>5</td></tr>",
                            "<tr><td>Hergé</td><td>5</td></tr>",
                            "<tr><td>Tijan</td><td>5</td></tr>",
                            "</table>"
                        ]
                    }
                }
            ],
            "execution_count": 4
        },
        {
            "cell_type": "markdown",
            "source": [
                "3\\. How many titles contain the word \"The\"?  \n",
                "\n",
                "> A. Is there a difference between the number of titles that use \"The\" or \"the\"?---no difference noted"
            ],
            "metadata": {
                "azdata_cell_guid": "97f50346-9729-4d1b-926c-e1b53c5c5e68"
            },
            "attachments": {}
        },
        {
            "cell_type": "code",
            "source": [
                "-- Code here: SELECT  tag_name FROM BooksDB.dbo.tags WHERE tag_name like '%mystery%'\r\n",
                "USE BooksDB\r\n",
                "SELECT COUNT(Title) AS 'BOOKS WITH The' FROM books WHERE title LIKE '%The%'\r\n",
                "\r\n",
                "USE BooksDB\r\n",
                "SELECT COUNT(Title) AS 'BOOKS WITH the' FROM books WHERE title LIKE '%the%'\r\n",
                "\r\n",
                ""
            ],
            "metadata": {
                "azdata_cell_guid": "f58433db-eb3b-46e0-bb4d-85ca52d359b5",
                "language": "sql"
            },
            "outputs": [
                {
                    "output_type": "display_data",
                    "data": {
                        "text/html": "(1 row affected)"
                    },
                    "metadata": {}
                },
                {
                    "output_type": "display_data",
                    "data": {
                        "text/html": "(1 row affected)"
                    },
                    "metadata": {}
                },
                {
                    "output_type": "display_data",
                    "data": {
                        "text/html": "Total execution time: 00:00:00.141"
                    },
                    "metadata": {}
                },
                {
                    "output_type": "execute_result",
                    "execution_count": 11,
                    "data": {
                        "application/vnd.dataresource+json": {
                            "schema": {
                                "fields": [
                                    {
                                        "name": "BOOKS WITH The"
                                    }
                                ]
                            },
                            "data": [
                                {
                                    "0": "4702"
                                }
                            ]
                        },
                        "text/html": "<table><tr><th>BOOKS WITH The</th></tr><tr><td>4702</td></tr></table>"
                    },
                    "metadata": {}
                },
                {
                    "output_type": "execute_result",
                    "execution_count": 11,
                    "data": {
                        "application/vnd.dataresource+json": {
                            "schema": {
                                "fields": [
                                    {
                                        "name": "BOOKS WITH the"
                                    }
                                ]
                            },
                            "data": [
                                {
                                    "0": "4702"
                                }
                            ]
                        },
                        "text/html": "<table><tr><th>BOOKS WITH the</th></tr><tr><td>4702</td></tr></table>"
                    },
                    "metadata": {}
                }
            ],
            "execution_count": 11
        },
        {
            "cell_type": "markdown",
            "source": [
                "4.  How many authors' names _start_ with 'Z'?\n",
                "\n",
                "|  |  |\n",
                "| --- | --- |\n",
                "| LIKE `'Kim%'` | match a string that starts with `Kim` |\n",
                "| LIKE `'%er'` | match a string that ends with er |\n",
                "| LIKE `'%ch%'` | match a string that contains `ch` |\n",
                "| LIKE `'Le_'` | match a string that starts with `Le` and is followed by one character e.g., Les, Len… |\n",
                "| LIKE `'_uy'` | match a string that ends with `uy` and is preceded by one character e.g., guy |\n",
                "| LIKE `'%are_'` | match a string that contains are and ends with one character |\n",
                "| LIKE `'_are%'` | match a string that contains `are`, starts with one character, and ends with any number of characters |"
            ],
            "metadata": {
                "azdata_cell_guid": "e0d89eca-410d-4e29-82ca-265b79c73fea"
            },
            "attachments": {}
        },
        {
            "cell_type": "code",
            "source": [
                "-- Code here:\r\n",
                "USE BooksDB\r\n",
                "SELECT COUNT(authors) AS 'COUNTS OF AUTHORS NAMES BEGINNING WITH Z', authors FROM books WHERE authors LIKE 'z%' GROUP BY authors\r\n",
                "\r\n",
                "USE BooksDB\r\n",
                "SELECT DISTINCT(authors) AS 'AUTHORS NAMES BEGINNING WITH Z' FROM books WHERE authors LIKE 'Z%'\r\n",
                "\r\n",
                "\r\n",
                ""
            ],
            "metadata": {
                "azdata_cell_guid": "850f04c8-458a-4cfb-95c4-4dbb7a3d63d0",
                "language": "sql"
            },
            "outputs": [
                {
                    "output_type": "display_data",
                    "data": {
                        "text/html": "(7 rows affected)"
                    },
                    "metadata": {}
                },
                {
                    "output_type": "display_data",
                    "data": {
                        "text/html": "(7 rows affected)"
                    },
                    "metadata": {}
                },
                {
                    "output_type": "display_data",
                    "data": {
                        "text/html": "Total execution time: 00:00:00.096"
                    },
                    "metadata": {}
                },
                {
                    "output_type": "execute_result",
                    "metadata": {},
                    "execution_count": 7,
                    "data": {
                        "application/vnd.dataresource+json": {
                            "schema": {
                                "fields": [
                                    {
                                        "name": "COUNTS OF AUTHORS NAMES BEGINNING WITH Z"
                                    },
                                    {
                                        "name": "authors"
                                    }
                                ]
                            },
                            "data": [
                                {
                                    "0": "5",
                                    "1": "Zadie Smith"
                                },
                                {
                                    "0": "1",
                                    "1": "Zane"
                                },
                                {
                                    "0": "1",
                                    "1": "Zig Ziglar, Al Mayton"
                                },
                                {
                                    "0": "1",
                                    "1": "Zilpha Keatley Snyder"
                                },
                                {
                                    "0": "1",
                                    "1": "Zoë Heller"
                                },
                                {
                                    "0": "1",
                                    "1": "Zoe Sugg, Siobhan Curham"
                                },
                                {
                                    "0": "1",
                                    "1": "Zora Neale Hurston"
                                }
                            ]
                        },
                        "text/html": [
                            "<table>",
                            "<tr><th>COUNTS OF AUTHORS NAMES BEGINNING WITH Z</th><th>authors</th></tr>",
                            "<tr><td>5</td><td>Zadie Smith</td></tr>",
                            "<tr><td>1</td><td>Zane</td></tr>",
                            "<tr><td>1</td><td>Zig Ziglar, Al Mayton</td></tr>",
                            "<tr><td>1</td><td>Zilpha Keatley Snyder</td></tr>",
                            "<tr><td>1</td><td>Zoë Heller</td></tr>",
                            "<tr><td>1</td><td>Zoe Sugg, Siobhan Curham</td></tr>",
                            "<tr><td>1</td><td>Zora Neale Hurston</td></tr>",
                            "</table>"
                        ]
                    }
                },
                {
                    "output_type": "execute_result",
                    "metadata": {},
                    "execution_count": 7,
                    "data": {
                        "application/vnd.dataresource+json": {
                            "schema": {
                                "fields": [
                                    {
                                        "name": "AUTHORS NAMES BEGINNING WITH Z"
                                    }
                                ]
                            },
                            "data": [
                                {
                                    "0": "Zadie Smith"
                                },
                                {
                                    "0": "Zane"
                                },
                                {
                                    "0": "Zig Ziglar, Al Mayton"
                                },
                                {
                                    "0": "Zilpha Keatley Snyder"
                                },
                                {
                                    "0": "Zoë Heller"
                                },
                                {
                                    "0": "Zoe Sugg, Siobhan Curham"
                                },
                                {
                                    "0": "Zora Neale Hurston"
                                }
                            ]
                        },
                        "text/html": [
                            "<table>",
                            "<tr><th>AUTHORS NAMES BEGINNING WITH Z</th></tr>",
                            "<tr><td>Zadie Smith</td></tr>",
                            "<tr><td>Zane</td></tr>",
                            "<tr><td>Zig Ziglar, Al Mayton</td></tr>",
                            "<tr><td>Zilpha Keatley Snyder</td></tr>",
                            "<tr><td>Zoë Heller</td></tr>",
                            "<tr><td>Zoe Sugg, Siobhan Curham</td></tr>",
                            "<tr><td>Zora Neale Hurston</td></tr>",
                            "</table>"
                        ]
                    }
                }
            ],
            "execution_count": 7
        },
        {
            "cell_type": "markdown",
            "source": [
                "5\\. How many books have been identified as printed in a language other than English?  There are four language codes for English: 'en', 'eng', 'en-US', and 'en-UK'.  Use LEFT to answer the question.  (Do not use the wildcard)\n",
                "\n",
                "You might want to use one of these [comparison operators](https://docs.microsoft.com/en-us/sql/t-sql/language-elements/comparison-operators-transact-sql?view=sql-server-ver15).\n",
                "\n",
                "|<mark> Operator | Meaning |\n",
                "| --- | --- |\n",
                "| [\\= (Equals)](https://docs.microsoft.com/en-us/sql/t-sql/language-elements/equals-transact-sql?view=sql-server-ver15) | Equal to |\n",
                "| [\\\\> (Greater Than)](https://docs.microsoft.com/en-us/sql/t-sql/language-elements/greater-than-transact-sql?view=sql-server-ver15) | Greater than |\n",
                "| [\\< (Less Than)](https://docs.microsoft.com/en-us/sql/t-sql/language-elements/less-than-transact-sql?view=sql-server-ver15) | Less than |\n",
                "| [\\\\>= (Greater Than or Equal To)](https://docs.microsoft.com/en-us/sql/t-sql/language-elements/greater-than-or-equal-to-transact-sql?view=sql-server-ver15) | Greater than or equal to |\n",
                "| [\\<= (Less Than or Equal To)](https://docs.microsoft.com/en-us/sql/t-sql/language-elements/less-than-or-equal-to-transact-sql?view=sql-server-ver15) | Less than or equal to |\n",
                "| [\\<\\> (Not Equal To)](https://docs.microsoft.com/en-us/sql/t-sql/language-elements/not-equal-to-transact-sql-traditional?view=sql-server-ver15) | Not equal to |\n",
                "| [!= (Not Equal To)](https://docs.microsoft.com/en-us/sql/t-sql/language-elements/not-equal-to-transact-sql-exclamation?view=sql-server-ver15) | Not equal to (not ISO standard) |\n",
                "| [!\\< (Not Less Than)](https://docs.microsoft.com/en-us/sql/t-sql/language-elements/not-less-than-transact-sql?view=sql-server-ver15) | Not less than (not ISO standard) |\n",
                "| [!\\> (Not Greater Than)](https://docs.microsoft.com/en-us/sql/t-sql/language-elements/not-greater-than-transact-sql?view=sql-server-ver15) | Not greater than (not ISO standard) |</mark>"
            ],
            "metadata": {
                "azdata_cell_guid": "7066afeb-79d2-4e7f-b497-cbde17655b19"
            },
            "attachments": {}
        },
        {
            "cell_type": "code",
            "source": [
                "-- Code here:\r\n",
                "-- USE BooksDB\r\n",
                "-- SELECT TOP 5 * FROM books\r\n",
                "USE BooksDB\r\n",
                "SELECT language_code, COUNT(language_code) AS 'ENGLISH LANGUAGE CODE COUNT' FROM books GROUP BY language_code HAVING language_code LIKE 'e_%'\r\n",
                "GO\r\n",
                "\r\n",
                "\r\n",
                "---cOUNT THE BOOKS NOT IN ENGLISH\r\n",
                "USE BooksDB\r\n",
                "SELECT COUNT(LEFT(language_code, 2)) FROM books WHERE LEFT(language_code, 2) NOT IN ('en')\r\n",
                "\r\n",
                "USE BooksDB\r\n",
                "SELECT COUNT(LEFT(language_code, 2)), language_code FROM books WHERE LEFT(language_code, 2) NOT IN ('en') GROUP BY language_code\r\n",
                "--USE BooksDB\r\n",
                "-- SELECT COUNT(LEFT(language_code, 6)) AS 'COUNT OF BOOKS IN ENGLISH' FROM books WHERE language_code='en' or language_code='eng' or language_code='eng-US' or language_code='en-UK'\r\n",
                "\r\n",
                "-- USE BooksDB\r\n",
                "-- SELECT title, LEFT(language_code, 6) AS 'ENGLISH BOOKS' FROM books WHERE language_code='en' or language_code='eng' or language_code='eng-US' or language_code='en-UK'"
            ],
            "metadata": {
                "azdata_cell_guid": "5a85f5ae-dd59-4fa1-828a-c63fa330ff7f",
                "language": "sql"
            },
            "outputs": [
                {
                    "output_type": "display_data",
                    "data": {
                        "text/html": "(5 rows affected)"
                    },
                    "metadata": {}
                },
                {
                    "output_type": "display_data",
                    "data": {
                        "text/html": "(1 row affected)"
                    },
                    "metadata": {}
                },
                {
                    "output_type": "display_data",
                    "data": {
                        "text/html": "(20 rows affected)"
                    },
                    "metadata": {}
                },
                {
                    "output_type": "display_data",
                    "data": {
                        "text/html": "Total execution time: 00:00:00.189"
                    },
                    "metadata": {}
                },
                {
                    "output_type": "execute_result",
                    "metadata": {},
                    "execution_count": 12,
                    "data": {
                        "application/vnd.dataresource+json": {
                            "schema": {
                                "fields": [
                                    {
                                        "name": "language_code"
                                    },
                                    {
                                        "name": "ENGLISH LANGUAGE CODE COUNT"
                                    }
                                ]
                            },
                            "data": [
                                {
                                    "0": "eng",
                                    "1": "6341"
                                },
                                {
                                    "0": "en-GB",
                                    "1": "257"
                                },
                                {
                                    "0": "en-CA",
                                    "1": "58"
                                },
                                {
                                    "0": "en",
                                    "1": "4"
                                },
                                {
                                    "0": "en-US",
                                    "1": "2070"
                                }
                            ]
                        },
                        "text/html": [
                            "<table>",
                            "<tr><th>language_code</th><th>ENGLISH LANGUAGE CODE COUNT</th></tr>",
                            "<tr><td>eng</td><td>6341</td></tr>",
                            "<tr><td>en-GB</td><td>257</td></tr>",
                            "<tr><td>en-CA</td><td>58</td></tr>",
                            "<tr><td>en</td><td>4</td></tr>",
                            "<tr><td>en-US</td><td>2070</td></tr>",
                            "</table>"
                        ]
                    }
                },
                {
                    "output_type": "execute_result",
                    "metadata": {},
                    "execution_count": 12,
                    "data": {
                        "application/vnd.dataresource+json": {
                            "schema": {
                                "fields": [
                                    {
                                        "name": "(No column name)"
                                    }
                                ]
                            },
                            "data": [
                                {
                                    "0": "186"
                                }
                            ]
                        },
                        "text/html": [
                            "<table>",
                            "<tr><th>(No column name)</th></tr>",
                            "<tr><td>186</td></tr>",
                            "</table>"
                        ]
                    }
                },
                {
                    "output_type": "execute_result",
                    "metadata": {},
                    "execution_count": 12,
                    "data": {
                        "application/vnd.dataresource+json": {
                            "schema": {
                                "fields": [
                                    {
                                        "name": "(No column name)"
                                    },
                                    {
                                        "name": "language_code"
                                    }
                                ]
                            },
                            "data": [
                                {
                                    "0": "64",
                                    "1": "ara"
                                },
                                {
                                    "0": "3",
                                    "1": "dan"
                                },
                                {
                                    "0": "2",
                                    "1": "fil"
                                },
                                {
                                    "0": "25",
                                    "1": "fre"
                                },
                                {
                                    "0": "13",
                                    "1": "ger"
                                },
                                {
                                    "0": "21",
                                    "1": "ind"
                                },
                                {
                                    "0": "2",
                                    "1": "ita"
                                },
                                {
                                    "0": "7",
                                    "1": "jpn"
                                },
                                {
                                    "0": "1",
                                    "1": "mul"
                                },
                                {
                                    "0": "1",
                                    "1": "nl"
                                },
                                {
                                    "0": "3",
                                    "1": "nor"
                                },
                                {
                                    "0": "7",
                                    "1": "per"
                                },
                                {
                                    "0": "6",
                                    "1": "pol"
                                },
                                {
                                    "0": "6",
                                    "1": "por"
                                },
                                {
                                    "0": "1",
                                    "1": "rum"
                                },
                                {
                                    "0": "1",
                                    "1": "rus"
                                },
                                {
                                    "0": "20",
                                    "1": "spa"
                                },
                                {
                                    "0": "1",
                                    "1": "swe"
                                },
                                {
                                    "0": "1",
                                    "1": "tur"
                                },
                                {
                                    "0": "1",
                                    "1": "vie"
                                }
                            ]
                        },
                        "text/html": [
                            "<table>",
                            "<tr><th>(No column name)</th><th>language_code</th></tr>",
                            "<tr><td>64</td><td>ara</td></tr>",
                            "<tr><td>3</td><td>dan</td></tr>",
                            "<tr><td>2</td><td>fil</td></tr>",
                            "<tr><td>25</td><td>fre</td></tr>",
                            "<tr><td>13</td><td>ger</td></tr>",
                            "<tr><td>21</td><td>ind</td></tr>",
                            "<tr><td>2</td><td>ita</td></tr>",
                            "<tr><td>7</td><td>jpn</td></tr>",
                            "<tr><td>1</td><td>mul</td></tr>",
                            "<tr><td>1</td><td>nl</td></tr>",
                            "<tr><td>3</td><td>nor</td></tr>",
                            "<tr><td>7</td><td>per</td></tr>",
                            "<tr><td>6</td><td>pol</td></tr>",
                            "<tr><td>6</td><td>por</td></tr>",
                            "<tr><td>1</td><td>rum</td></tr>",
                            "<tr><td>1</td><td>rus</td></tr>",
                            "<tr><td>20</td><td>spa</td></tr>",
                            "<tr><td>1</td><td>swe</td></tr>",
                            "<tr><td>1</td><td>tur</td></tr>",
                            "<tr><td>1</td><td>vie</td></tr>",
                            "</table>"
                        ]
                    }
                }
            ],
            "execution_count": 12
        },
        {
            "cell_type": "markdown",
            "source": [
                "6\\. Retry question 5 using SUBSTRING."
            ],
            "metadata": {
                "azdata_cell_guid": "93153cd1-ecea-4e4b-87f5-2214993a7291"
            },
            "attachments": {}
        },
        {
            "cell_type": "code",
            "source": [
                "-- Code here: SUBSTRING(string, start, length)\r\n",
                "--SQL INDEX STARTS AT 1\r\n",
                "\r\n",
                "--COUNT THE BOOKS NOT IN ENGLISH USING SUBSTRING INSTEAD OF LEFT\r\n",
                "USE BooksDB\r\n",
                "SELECT COUNT(language_code) FROM books WHERE SUBSTRING(language_code, 1, 2) NOT IN ('en')"
            ],
            "metadata": {
                "azdata_cell_guid": "7756ae02-4ec2-4456-b3a7-c3604bf07e26",
                "language": "sql"
            },
            "outputs": [
                {
                    "output_type": "display_data",
                    "data": {
                        "text/html": "(1 row affected)"
                    },
                    "metadata": {}
                },
                {
                    "output_type": "display_data",
                    "data": {
                        "text/html": "Total execution time: 00:00:00.076"
                    },
                    "metadata": {}
                },
                {
                    "output_type": "execute_result",
                    "metadata": {},
                    "execution_count": 11,
                    "data": {
                        "application/vnd.dataresource+json": {
                            "schema": {
                                "fields": [
                                    {
                                        "name": "(No column name)"
                                    }
                                ]
                            },
                            "data": [
                                {
                                    "0": "186"
                                }
                            ]
                        },
                        "text/html": [
                            "<table>",
                            "<tr><th>(No column name)</th></tr>",
                            "<tr><td>186</td></tr>",
                            "</table>"
                        ]
                    }
                }
            ],
            "execution_count": 11
        },
        {
            "cell_type": "markdown",
            "source": [
                "7.  Create a column that returns the title, authors, and language codes.  Concatenate these elements so that they return in the following way: title by authors in language\\_code language.\n",
                "\n",
                "> A.  Check each selected column to see where any values are NULL.  Did any of the columns contain NULL values?  If so, which one?"
            ],
            "metadata": {
                "azdata_cell_guid": "c8124542-ea76-4153-96ef-f4db908fbd6c"
            },
            "attachments": {}
        },
        {
            "cell_type": "code",
            "source": [
                "-- Code here:\r\n",
                "USE BooksDB\r\n",
                "SELECT TOP (50) title, authors, language_code, CONCAT(title, ' BY ', authors, ' IN ', language_code) AS 'CONCATENATED COL' FROM books\r\n",
                "\r\n",
                "-- USE BooksDB\r\n",
                "-- SELECT TOP (50) title, authors, language_code, CONCAT(title, ' BY ', authors, ' IN ', language_code) AS 'CONCATENATED COL'\r\n",
                "--     FROM books \r\n",
                "--     WHERE title IS NULL OR authors IS NULL OR language_code IS NULL\r\n",
                "\r\n",
                "USE BooksDB\r\n",
                "SELECT TOP (50) title, authors, language_code --CONCAT(title, ' BY ', authors, ' IN ', language_code) AS 'CONCATENATED COL'\r\n",
                "    FROM books \r\n",
                "    WHERE title IS NULL OR authors IS NULL OR language_code IS NULL\r\n",
                "\r\n",
                "\r\n",
                "\r\n",
                ""
            ],
            "metadata": {
                "azdata_cell_guid": "26705af1-6191-48b9-b649-7bc93cad102d",
                "language": "sql"
            },
            "outputs": [
                {
                    "output_type": "display_data",
                    "data": {
                        "text/html": "(50 rows affected)"
                    },
                    "metadata": {}
                },
                {
                    "output_type": "display_data",
                    "data": {
                        "text/html": "(50 rows affected)"
                    },
                    "metadata": {}
                },
                {
                    "output_type": "display_data",
                    "data": {
                        "text/html": "Total execution time: 00:00:00.133"
                    },
                    "metadata": {}
                },
                {
                    "output_type": "execute_result",
                    "metadata": {},
                    "execution_count": 16,
                    "data": {
                        "application/vnd.dataresource+json": {
                            "schema": {
                                "fields": [
                                    {
                                        "name": "title"
                                    },
                                    {
                                        "name": "authors"
                                    },
                                    {
                                        "name": "language_code"
                                    },
                                    {
                                        "name": "CONCATENATED COL"
                                    }
                                ]
                            },
                            "data": [
                                {
                                    "0": "The Hunger Games (The Hunger Games, #1)",
                                    "1": "Suzanne Collins",
                                    "2": "eng",
                                    "3": "The Hunger Games (The Hunger Games, #1) BY Suzanne Collins IN eng"
                                },
                                {
                                    "0": "Harry Potter and the Sorcerer's Stone (Harry Potter, #1)",
                                    "1": "J.K. Rowling, Mary GrandPré",
                                    "2": "eng",
                                    "3": "Harry Potter and the Sorcerer's Stone (Harry Potter, #1) BY J.K. Rowling, Mary GrandPré IN eng"
                                },
                                {
                                    "0": "Twilight (Twilight, #1)",
                                    "1": "Stephenie Meyer",
                                    "2": "en-US",
                                    "3": "Twilight (Twilight, #1) BY Stephenie Meyer IN en-US"
                                },
                                {
                                    "0": "To Kill a Mockingbird",
                                    "1": "Harper Lee",
                                    "2": "eng",
                                    "3": "To Kill a Mockingbird BY Harper Lee IN eng"
                                },
                                {
                                    "0": "The Great Gatsby",
                                    "1": "F. Scott Fitzgerald",
                                    "2": "eng",
                                    "3": "The Great Gatsby BY F. Scott Fitzgerald IN eng"
                                },
                                {
                                    "0": "The Fault in Our Stars",
                                    "1": "John Green",
                                    "2": "eng",
                                    "3": "The Fault in Our Stars BY John Green IN eng"
                                },
                                {
                                    "0": "The Hobbit",
                                    "1": "J.R.R. Tolkien",
                                    "2": "en-US",
                                    "3": "The Hobbit BY J.R.R. Tolkien IN en-US"
                                },
                                {
                                    "0": "The Catcher in the Rye",
                                    "1": "J.D. Salinger",
                                    "2": "eng",
                                    "3": "The Catcher in the Rye BY J.D. Salinger IN eng"
                                },
                                {
                                    "0": "Angels & Demons  (Robert Langdon, #1)",
                                    "1": "Dan Brown",
                                    "2": "en-CA",
                                    "3": "Angels & Demons  (Robert Langdon, #1) BY Dan Brown IN en-CA"
                                },
                                {
                                    "0": "Pride and Prejudice",
                                    "1": "Jane Austen",
                                    "2": "eng",
                                    "3": "Pride and Prejudice BY Jane Austen IN eng"
                                },
                                {
                                    "0": "The Kite Runner",
                                    "1": "Khaled Hosseini",
                                    "2": "eng",
                                    "3": "The Kite Runner BY Khaled Hosseini IN eng"
                                },
                                {
                                    "0": "Divergent (Divergent, #1)",
                                    "1": "Veronica Roth",
                                    "2": "eng",
                                    "3": "Divergent (Divergent, #1) BY Veronica Roth IN eng"
                                },
                                {
                                    "0": "1984",
                                    "1": "George Orwell, Erich Fromm, Celâl Üster",
                                    "2": "eng",
                                    "3": "1984 BY George Orwell, Erich Fromm, Celâl Üster IN eng"
                                },
                                {
                                    "0": "Animal Farm",
                                    "1": "George Orwell",
                                    "2": "eng",
                                    "3": "Animal Farm BY George Orwell IN eng"
                                },
                                {
                                    "0": "The Diary of a Young Girl",
                                    "1": "Anne Frank, Eleanor Roosevelt, B.M. Mooyaart-Doubleday",
                                    "2": "eng",
                                    "3": "The Diary of a Young Girl BY Anne Frank, Eleanor Roosevelt, B.M. Mooyaart-Doubleday IN eng"
                                },
                                {
                                    "0": "The Girl with the Dragon Tattoo (Millennium, #1)",
                                    "1": "Stieg Larsson, Reg Keeland",
                                    "2": "eng",
                                    "3": "The Girl with the Dragon Tattoo (Millennium, #1) BY Stieg Larsson, Reg Keeland IN eng"
                                },
                                {
                                    "0": "Catching Fire (The Hunger Games, #2)",
                                    "1": "Suzanne Collins",
                                    "2": "eng",
                                    "3": "Catching Fire (The Hunger Games, #2) BY Suzanne Collins IN eng"
                                },
                                {
                                    "0": "Harry Potter and the Prisoner of Azkaban (Harry Potter, #3)",
                                    "1": "J.K. Rowling, Mary GrandPré, Rufus Beck",
                                    "2": "eng",
                                    "3": "Harry Potter and the Prisoner of Azkaban (Harry Potter, #3) BY J.K. Rowling, Mary GrandPré, Rufus Beck IN eng"
                                },
                                {
                                    "0": "The Fellowship of the Ring (The Lord of the Rings, #1)",
                                    "1": "J.R.R. Tolkien",
                                    "2": "eng",
                                    "3": "The Fellowship of the Ring (The Lord of the Rings, #1) BY J.R.R. Tolkien IN eng"
                                },
                                {
                                    "0": "Mockingjay (The Hunger Games, #3)",
                                    "1": "Suzanne Collins",
                                    "2": "eng",
                                    "3": "Mockingjay (The Hunger Games, #3) BY Suzanne Collins IN eng"
                                },
                                {
                                    "0": "Harry Potter and the Order of the Phoenix (Harry Potter, #5)",
                                    "1": "J.K. Rowling, Mary GrandPré",
                                    "2": "eng",
                                    "3": "Harry Potter and the Order of the Phoenix (Harry Potter, #5) BY J.K. Rowling, Mary GrandPré IN eng"
                                },
                                {
                                    "0": "The Lovely Bones",
                                    "1": "Alice Sebold",
                                    "2": "eng",
                                    "3": "The Lovely Bones BY Alice Sebold IN eng"
                                },
                                {
                                    "0": "Harry Potter and the Chamber of Secrets (Harry Potter, #2)",
                                    "1": "J.K. Rowling, Mary GrandPré",
                                    "2": "eng",
                                    "3": "Harry Potter and the Chamber of Secrets (Harry Potter, #2) BY J.K. Rowling, Mary GrandPré IN eng"
                                },
                                {
                                    "0": "Harry Potter and the Goblet of Fire (Harry Potter, #4)",
                                    "1": "J.K. Rowling, Mary GrandPré",
                                    "2": "eng",
                                    "3": "Harry Potter and the Goblet of Fire (Harry Potter, #4) BY J.K. Rowling, Mary GrandPré IN eng"
                                },
                                {
                                    "0": "Harry Potter and the Deathly Hallows (Harry Potter, #7)",
                                    "1": "J.K. Rowling, Mary GrandPré",
                                    "2": "eng",
                                    "3": "Harry Potter and the Deathly Hallows (Harry Potter, #7) BY J.K. Rowling, Mary GrandPré IN eng"
                                },
                                {
                                    "0": "The Da Vinci Code (Robert Langdon, #2)",
                                    "1": "Dan Brown",
                                    "2": "eng",
                                    "3": "The Da Vinci Code (Robert Langdon, #2) BY Dan Brown IN eng"
                                },
                                {
                                    "0": "Harry Potter and the Half-Blood Prince (Harry Potter, #6)",
                                    "1": "J.K. Rowling, Mary GrandPré",
                                    "2": "eng",
                                    "3": "Harry Potter and the Half-Blood Prince (Harry Potter, #6) BY J.K. Rowling, Mary GrandPré IN eng"
                                },
                                {
                                    "0": "Lord of the Flies",
                                    "1": "William Golding",
                                    "2": "eng",
                                    "3": "Lord of the Flies BY William Golding IN eng"
                                },
                                {
                                    "0": "Romeo and Juliet",
                                    "1": "William Shakespeare, Robert           Jackson",
                                    "2": "eng",
                                    "3": "Romeo and Juliet BY William Shakespeare, Robert           Jackson IN eng"
                                },
                                {
                                    "0": "Gone Girl",
                                    "1": "Gillian Flynn",
                                    "2": "eng",
                                    "3": "Gone Girl BY Gillian Flynn IN eng"
                                },
                                {
                                    "0": "The Help",
                                    "1": "Kathryn Stockett",
                                    "2": "eng",
                                    "3": "The Help BY Kathryn Stockett IN eng"
                                },
                                {
                                    "0": "Of Mice and Men",
                                    "1": "John Steinbeck",
                                    "2": "eng",
                                    "3": "Of Mice and Men BY John Steinbeck IN eng"
                                },
                                {
                                    "0": "Memoirs of a Geisha",
                                    "1": "Arthur Golden",
                                    "2": "eng",
                                    "3": "Memoirs of a Geisha BY Arthur Golden IN eng"
                                },
                                {
                                    "0": "Fifty Shades of Grey (Fifty Shades, #1)",
                                    "1": "E.L. James",
                                    "2": "eng",
                                    "3": "Fifty Shades of Grey (Fifty Shades, #1) BY E.L. James IN eng"
                                },
                                {
                                    "0": "The Alchemist",
                                    "1": "Paulo Coelho, Alan R. Clarke",
                                    "2": "eng",
                                    "3": "The Alchemist BY Paulo Coelho, Alan R. Clarke IN eng"
                                },
                                {
                                    "0": "The Giver (The Giver, #1)",
                                    "1": "Lois Lowry",
                                    "2": "eng",
                                    "3": "The Giver (The Giver, #1) BY Lois Lowry IN eng"
                                },
                                {
                                    "0": "The Lion, the Witch, and the Wardrobe (Chronicles of Narnia, #1)",
                                    "1": "C.S. Lewis",
                                    "2": "eng",
                                    "3": "The Lion, the Witch, and the Wardrobe (Chronicles of Narnia, #1) BY C.S. Lewis IN eng"
                                },
                                {
                                    "0": "The Time Traveler's Wife",
                                    "1": "Audrey Niffenegger",
                                    "2": "eng",
                                    "3": "The Time Traveler's Wife BY Audrey Niffenegger IN eng"
                                },
                                {
                                    "0": "A Game of Thrones (A Song of Ice and Fire, #1)",
                                    "1": "George R.R. Martin",
                                    "2": "eng",
                                    "3": "A Game of Thrones (A Song of Ice and Fire, #1) BY George R.R. Martin IN eng"
                                },
                                {
                                    "0": "Eat, Pray, Love",
                                    "1": "Elizabeth Gilbert",
                                    "2": "eng",
                                    "3": "Eat, Pray, Love BY Elizabeth Gilbert IN eng"
                                },
                                {
                                    "0": "The Lightning Thief (Percy Jackson and the Olympians, #1)",
                                    "1": "Rick Riordan",
                                    "2": "eng",
                                    "3": "The Lightning Thief (Percy Jackson and the Olympians, #1) BY Rick Riordan IN eng"
                                },
                                {
                                    "0": "Little Women (Little Women, #1)",
                                    "1": "Louisa May Alcott",
                                    "2": "en-US",
                                    "3": "Little Women (Little Women, #1) BY Louisa May Alcott IN en-US"
                                },
                                {
                                    "0": "Jane Eyre",
                                    "1": "Charlotte Brontë, Michael Mason",
                                    "2": "eng",
                                    "3": "Jane Eyre BY Charlotte Brontë, Michael Mason IN eng"
                                },
                                {
                                    "0": "The Notebook (The Notebook, #1)",
                                    "1": "Nicholas Sparks",
                                    "2": "eng",
                                    "3": "The Notebook (The Notebook, #1) BY Nicholas Sparks IN eng"
                                },
                                {
                                    "0": "Life of Pi",
                                    "1": "Yann Martel",
                                    "2": "NULL",
                                    "3": "Life of Pi BY Yann Martel IN "
                                },
                                {
                                    "0": "Water for Elephants",
                                    "1": "Sara Gruen",
                                    "2": "eng",
                                    "3": "Water for Elephants BY Sara Gruen IN eng"
                                },
                                {
                                    "0": "The Book Thief",
                                    "1": "Markus Zusak",
                                    "2": "eng",
                                    "3": "The Book Thief BY Markus Zusak IN eng"
                                },
                                {
                                    "0": "Fahrenheit 451",
                                    "1": "Ray Bradbury",
                                    "2": "spa",
                                    "3": "Fahrenheit 451 BY Ray Bradbury IN spa"
                                },
                                {
                                    "0": "New Moon (Twilight, #2)",
                                    "1": "Stephenie Meyer",
                                    "2": "eng",
                                    "3": "New Moon (Twilight, #2) BY Stephenie Meyer IN eng"
                                },
                                {
                                    "0": "Where the Sidewalk Ends",
                                    "1": "Shel Silverstein",
                                    "2": "eng",
                                    "3": "Where the Sidewalk Ends BY Shel Silverstein IN eng"
                                }
                            ]
                        },
                        "text/html": [
                            "<table>",
                            "<tr><th>title</th><th>authors</th><th>language_code</th><th>CONCATENATED COL</th></tr>",
                            "<tr><td>The Hunger Games (The Hunger Games, #1)</td><td>Suzanne Collins</td><td>eng</td><td>The Hunger Games (The Hunger Games, #1) BY Suzanne Collins IN eng</td></tr>",
                            "<tr><td>Harry Potter and the Sorcerer's Stone (Harry Potter, #1)</td><td>J.K. Rowling, Mary GrandPré</td><td>eng</td><td>Harry Potter and the Sorcerer's Stone (Harry Potter, #1) BY J.K. Rowling, Mary GrandPré IN eng</td></tr>",
                            "<tr><td>Twilight (Twilight, #1)</td><td>Stephenie Meyer</td><td>en-US</td><td>Twilight (Twilight, #1) BY Stephenie Meyer IN en-US</td></tr>",
                            "<tr><td>To Kill a Mockingbird</td><td>Harper Lee</td><td>eng</td><td>To Kill a Mockingbird BY Harper Lee IN eng</td></tr>",
                            "<tr><td>The Great Gatsby</td><td>F. Scott Fitzgerald</td><td>eng</td><td>The Great Gatsby BY F. Scott Fitzgerald IN eng</td></tr>",
                            "<tr><td>The Fault in Our Stars</td><td>John Green</td><td>eng</td><td>The Fault in Our Stars BY John Green IN eng</td></tr>",
                            "<tr><td>The Hobbit</td><td>J.R.R. Tolkien</td><td>en-US</td><td>The Hobbit BY J.R.R. Tolkien IN en-US</td></tr>",
                            "<tr><td>The Catcher in the Rye</td><td>J.D. Salinger</td><td>eng</td><td>The Catcher in the Rye BY J.D. Salinger IN eng</td></tr>",
                            "<tr><td>Angels &amp; Demons  (Robert Langdon, #1)</td><td>Dan Brown</td><td>en-CA</td><td>Angels &amp; Demons  (Robert Langdon, #1) BY Dan Brown IN en-CA</td></tr>",
                            "<tr><td>Pride and Prejudice</td><td>Jane Austen</td><td>eng</td><td>Pride and Prejudice BY Jane Austen IN eng</td></tr>",
                            "<tr><td>The Kite Runner</td><td>Khaled Hosseini</td><td>eng</td><td>The Kite Runner BY Khaled Hosseini IN eng</td></tr>",
                            "<tr><td>Divergent (Divergent, #1)</td><td>Veronica Roth</td><td>eng</td><td>Divergent (Divergent, #1) BY Veronica Roth IN eng</td></tr>",
                            "<tr><td>1984</td><td>George Orwell, Erich Fromm, Celâl Üster</td><td>eng</td><td>1984 BY George Orwell, Erich Fromm, Celâl Üster IN eng</td></tr>",
                            "<tr><td>Animal Farm</td><td>George Orwell</td><td>eng</td><td>Animal Farm BY George Orwell IN eng</td></tr>",
                            "<tr><td>The Diary of a Young Girl</td><td>Anne Frank, Eleanor Roosevelt, B.M. Mooyaart-Doubleday</td><td>eng</td><td>The Diary of a Young Girl BY Anne Frank, Eleanor Roosevelt, B.M. Mooyaart-Doubleday IN eng</td></tr>",
                            "<tr><td>The Girl with the Dragon Tattoo (Millennium, #1)</td><td>Stieg Larsson, Reg Keeland</td><td>eng</td><td>The Girl with the Dragon Tattoo (Millennium, #1) BY Stieg Larsson, Reg Keeland IN eng</td></tr>",
                            "<tr><td>Catching Fire (The Hunger Games, #2)</td><td>Suzanne Collins</td><td>eng</td><td>Catching Fire (The Hunger Games, #2) BY Suzanne Collins IN eng</td></tr>",
                            "<tr><td>Harry Potter and the Prisoner of Azkaban (Harry Potter, #3)</td><td>J.K. Rowling, Mary GrandPré, Rufus Beck</td><td>eng</td><td>Harry Potter and the Prisoner of Azkaban (Harry Potter, #3) BY J.K. Rowling, Mary GrandPré, Rufus Beck IN eng</td></tr>",
                            "<tr><td>The Fellowship of the Ring (The Lord of the Rings, #1)</td><td>J.R.R. Tolkien</td><td>eng</td><td>The Fellowship of the Ring (The Lord of the Rings, #1) BY J.R.R. Tolkien IN eng</td></tr>",
                            "<tr><td>Mockingjay (The Hunger Games, #3)</td><td>Suzanne Collins</td><td>eng</td><td>Mockingjay (The Hunger Games, #3) BY Suzanne Collins IN eng</td></tr>",
                            "<tr><td>Harry Potter and the Order of the Phoenix (Harry Potter, #5)</td><td>J.K. Rowling, Mary GrandPré</td><td>eng</td><td>Harry Potter and the Order of the Phoenix (Harry Potter, #5) BY J.K. Rowling, Mary GrandPré IN eng</td></tr>",
                            "<tr><td>The Lovely Bones</td><td>Alice Sebold</td><td>eng</td><td>The Lovely Bones BY Alice Sebold IN eng</td></tr>",
                            "<tr><td>Harry Potter and the Chamber of Secrets (Harry Potter, #2)</td><td>J.K. Rowling, Mary GrandPré</td><td>eng</td><td>Harry Potter and the Chamber of Secrets (Harry Potter, #2) BY J.K. Rowling, Mary GrandPré IN eng</td></tr>",
                            "<tr><td>Harry Potter and the Goblet of Fire (Harry Potter, #4)</td><td>J.K. Rowling, Mary GrandPré</td><td>eng</td><td>Harry Potter and the Goblet of Fire (Harry Potter, #4) BY J.K. Rowling, Mary GrandPré IN eng</td></tr>",
                            "<tr><td>Harry Potter and the Deathly Hallows (Harry Potter, #7)</td><td>J.K. Rowling, Mary GrandPré</td><td>eng</td><td>Harry Potter and the Deathly Hallows (Harry Potter, #7) BY J.K. Rowling, Mary GrandPré IN eng</td></tr>",
                            "<tr><td>The Da Vinci Code (Robert Langdon, #2)</td><td>Dan Brown</td><td>eng</td><td>The Da Vinci Code (Robert Langdon, #2) BY Dan Brown IN eng</td></tr>",
                            "<tr><td>Harry Potter and the Half-Blood Prince (Harry Potter, #6)</td><td>J.K. Rowling, Mary GrandPré</td><td>eng</td><td>Harry Potter and the Half-Blood Prince (Harry Potter, #6) BY J.K. Rowling, Mary GrandPré IN eng</td></tr>",
                            "<tr><td>Lord of the Flies</td><td>William Golding</td><td>eng</td><td>Lord of the Flies BY William Golding IN eng</td></tr>",
                            "<tr><td>Romeo and Juliet</td><td>William Shakespeare, Robert           Jackson</td><td>eng</td><td>Romeo and Juliet BY William Shakespeare, Robert           Jackson IN eng</td></tr>",
                            "<tr><td>Gone Girl</td><td>Gillian Flynn</td><td>eng</td><td>Gone Girl BY Gillian Flynn IN eng</td></tr>",
                            "<tr><td>The Help</td><td>Kathryn Stockett</td><td>eng</td><td>The Help BY Kathryn Stockett IN eng</td></tr>",
                            "<tr><td>Of Mice and Men</td><td>John Steinbeck</td><td>eng</td><td>Of Mice and Men BY John Steinbeck IN eng</td></tr>",
                            "<tr><td>Memoirs of a Geisha</td><td>Arthur Golden</td><td>eng</td><td>Memoirs of a Geisha BY Arthur Golden IN eng</td></tr>",
                            "<tr><td>Fifty Shades of Grey (Fifty Shades, #1)</td><td>E.L. James</td><td>eng</td><td>Fifty Shades of Grey (Fifty Shades, #1) BY E.L. James IN eng</td></tr>",
                            "<tr><td>The Alchemist</td><td>Paulo Coelho, Alan R. Clarke</td><td>eng</td><td>The Alchemist BY Paulo Coelho, Alan R. Clarke IN eng</td></tr>",
                            "<tr><td>The Giver (The Giver, #1)</td><td>Lois Lowry</td><td>eng</td><td>The Giver (The Giver, #1) BY Lois Lowry IN eng</td></tr>",
                            "<tr><td>The Lion, the Witch, and the Wardrobe (Chronicles of Narnia, #1)</td><td>C.S. Lewis</td><td>eng</td><td>The Lion, the Witch, and the Wardrobe (Chronicles of Narnia, #1) BY C.S. Lewis IN eng</td></tr>",
                            "<tr><td>The Time Traveler's Wife</td><td>Audrey Niffenegger</td><td>eng</td><td>The Time Traveler's Wife BY Audrey Niffenegger IN eng</td></tr>",
                            "<tr><td>A Game of Thrones (A Song of Ice and Fire, #1)</td><td>George R.R. Martin</td><td>eng</td><td>A Game of Thrones (A Song of Ice and Fire, #1) BY George R.R. Martin IN eng</td></tr>",
                            "<tr><td>Eat, Pray, Love</td><td>Elizabeth Gilbert</td><td>eng</td><td>Eat, Pray, Love BY Elizabeth Gilbert IN eng</td></tr>",
                            "<tr><td>The Lightning Thief (Percy Jackson and the Olympians, #1)</td><td>Rick Riordan</td><td>eng</td><td>The Lightning Thief (Percy Jackson and the Olympians, #1) BY Rick Riordan IN eng</td></tr>",
                            "<tr><td>Little Women (Little Women, #1)</td><td>Louisa May Alcott</td><td>en-US</td><td>Little Women (Little Women, #1) BY Louisa May Alcott IN en-US</td></tr>",
                            "<tr><td>Jane Eyre</td><td>Charlotte Brontë, Michael Mason</td><td>eng</td><td>Jane Eyre BY Charlotte Brontë, Michael Mason IN eng</td></tr>",
                            "<tr><td>The Notebook (The Notebook, #1)</td><td>Nicholas Sparks</td><td>eng</td><td>The Notebook (The Notebook, #1) BY Nicholas Sparks IN eng</td></tr>",
                            "<tr><td>Life of Pi</td><td>Yann Martel</td><td>NULL</td><td>Life of Pi BY Yann Martel IN </td></tr>",
                            "<tr><td>Water for Elephants</td><td>Sara Gruen</td><td>eng</td><td>Water for Elephants BY Sara Gruen IN eng</td></tr>",
                            "<tr><td>The Book Thief</td><td>Markus Zusak</td><td>eng</td><td>The Book Thief BY Markus Zusak IN eng</td></tr>",
                            "<tr><td>Fahrenheit 451</td><td>Ray Bradbury</td><td>spa</td><td>Fahrenheit 451 BY Ray Bradbury IN spa</td></tr>",
                            "<tr><td>New Moon (Twilight, #2)</td><td>Stephenie Meyer</td><td>eng</td><td>New Moon (Twilight, #2) BY Stephenie Meyer IN eng</td></tr>",
                            "<tr><td>Where the Sidewalk Ends</td><td>Shel Silverstein</td><td>eng</td><td>Where the Sidewalk Ends BY Shel Silverstein IN eng</td></tr>",
                            "</table>"
                        ]
                    }
                },
                {
                    "output_type": "execute_result",
                    "metadata": {},
                    "execution_count": 16,
                    "data": {
                        "application/vnd.dataresource+json": {
                            "schema": {
                                "fields": [
                                    {
                                        "name": "title"
                                    },
                                    {
                                        "name": "authors"
                                    },
                                    {
                                        "name": "language_code"
                                    }
                                ]
                            },
                            "data": [
                                {
                                    "0": "Life of Pi",
                                    "1": "Yann Martel",
                                    "2": "NULL"
                                },
                                {
                                    "0": "The Five People You Meet in Heaven",
                                    "1": "Mitch Albom",
                                    "2": "NULL"
                                },
                                {
                                    "0": "A Christmas Carol",
                                    "1": "Charles Dickens",
                                    "2": "NULL"
                                },
                                {
                                    "0": "Carrie",
                                    "1": "Stephen King",
                                    "2": "NULL"
                                },
                                {
                                    "0": "The Hunt for Red October (Jack Ryan Universe, #4)",
                                    "1": "Tom Clancy",
                                    "2": "NULL"
                                },
                                {
                                    "0": "Where the Red Fern Grows",
                                    "1": "Wilson Rawls",
                                    "2": "NULL"
                                },
                                {
                                    "0": "Fried Green Tomatoes at the Whistle Stop Cafe",
                                    "1": "Fannie Flagg",
                                    "2": "NULL"
                                },
                                {
                                    "0": "The Three Musketeers",
                                    "1": "Alexandre Dumas",
                                    "2": "NULL"
                                },
                                {
                                    "0": "In Her Shoes",
                                    "1": "Jennifer Weiner",
                                    "2": "NULL"
                                },
                                {
                                    "0": "The Andromeda Strain",
                                    "1": "Michael Crichton",
                                    "2": "NULL"
                                },
                                {
                                    "0": "Needful Things",
                                    "1": "Stephen King",
                                    "2": "NULL"
                                },
                                {
                                    "0": "Are You There, Vodka? It's Me, Chelsea",
                                    "1": "Chelsea Handler",
                                    "2": "NULL"
                                },
                                {
                                    "0": "Prey",
                                    "1": "Michael Crichton",
                                    "2": "NULL"
                                },
                                {
                                    "0": "Mrs. Frisby and the Rats of NIMH (Rats of NIMH, #1)",
                                    "1": "Robert C. O'Brien",
                                    "2": "NULL"
                                },
                                {
                                    "0": "The Little House Collection (Little House, #1-9)",
                                    "1": "Laura Ingalls Wilder, Garth Williams",
                                    "2": "NULL"
                                },
                                {
                                    "0": "The Girls' Guide to Hunting and Fishing",
                                    "1": "Melissa Bank",
                                    "2": "NULL"
                                },
                                {
                                    "0": "Sh*t My Dad Says",
                                    "1": "Justin Halpern",
                                    "2": "NULL"
                                },
                                {
                                    "0": "The Four Agreements: A Practical Guide to Personal Freedom",
                                    "1": "Miguel Ruiz",
                                    "2": "NULL"
                                },
                                {
                                    "0": "One Fish, Two Fish, Red Fish, Blue Fish",
                                    "1": "Dr. Seuss",
                                    "2": "NULL"
                                },
                                {
                                    "0": "Watchers",
                                    "1": "Dean Koontz",
                                    "2": "NULL"
                                },
                                {
                                    "0": "Fifty Shades Trilogy (Fifty Shades, #1-3)",
                                    "1": "E.L. James",
                                    "2": "NULL"
                                },
                                {
                                    "0": "The Joy of Cooking",
                                    "1": "Irma S. Rombauer, Marion Rombauer Becker, Ethan Becker",
                                    "2": "NULL"
                                },
                                {
                                    "0": "The Complete Anne of Green Gables Boxed Set (Anne of Green Gables, #1-8)",
                                    "1": "L.M. Montgomery",
                                    "2": "NULL"
                                },
                                {
                                    "0": "The Partner",
                                    "1": "John Grisham",
                                    "2": "NULL"
                                },
                                {
                                    "0": "Presumed Innocent",
                                    "1": "Scott Turow",
                                    "2": "NULL"
                                },
                                {
                                    "0": "Dr. Seuss's Green Eggs and Ham: For Soprano, Boy Soprano, and Orchestra",
                                    "1": "Robert Kapilow, Dr. Seuss",
                                    "2": "NULL"
                                },
                                {
                                    "0": "Inferno (The Divine Comedy #1)",
                                    "1": "Dante Alighieri, Anthony M. Esolen",
                                    "2": "NULL"
                                },
                                {
                                    "0": "The Girl Who Loved Tom Gordon",
                                    "1": "Stephen King",
                                    "2": "NULL"
                                },
                                {
                                    "0": "The Twilight Saga (Twilight, #1-4)",
                                    "1": "Stephenie Meyer, Ilyana Kadushin, Matt Walters",
                                    "2": "NULL"
                                },
                                {
                                    "0": "The Secret Keeper",
                                    "1": "Kate Morton",
                                    "2": "NULL"
                                },
                                {
                                    "0": "Better Homes and Gardens New Cook Book  ",
                                    "1": "Better Homes and Gardens",
                                    "2": "NULL"
                                },
                                {
                                    "0": "Reached (Matched, #3)",
                                    "1": "Ally Condie",
                                    "2": "NULL"
                                },
                                {
                                    "0": "The Testament",
                                    "1": "John Grisham",
                                    "2": "NULL"
                                },
                                {
                                    "0": "90 Minutes in Heaven: A True Story of Death and Life",
                                    "1": "Don Piper, Cecil Murphey",
                                    "2": "NULL"
                                },
                                {
                                    "0": "Sam's Letters to Jennifer",
                                    "1": "James Patterson",
                                    "2": "NULL"
                                },
                                {
                                    "0": "Little Earthquakes",
                                    "1": "Jennifer Weiner",
                                    "2": "NULL"
                                },
                                {
                                    "0": "Lullaby",
                                    "1": "Chuck Palahniuk",
                                    "2": "NULL"
                                },
                                {
                                    "0": "The English Patient",
                                    "1": "Michael Ondaatje",
                                    "2": "NULL"
                                },
                                {
                                    "0": "Warm Bodies (Warm Bodies, #1)",
                                    "1": "Isaac Marion",
                                    "2": "NULL"
                                },
                                {
                                    "0": "Cold Sassy Tree",
                                    "1": "Olive Ann Burns",
                                    "2": "NULL"
                                },
                                {
                                    "0": "Aristotle and Dante Discover the Secrets of the Universe (Aristotle and Dante Discover the Secrets of the Universe, #1)",
                                    "1": "Benjamin Alire Sáenz",
                                    "2": "NULL"
                                },
                                {
                                    "0": "Summer Sisters",
                                    "1": "Judy Blume",
                                    "2": "NULL"
                                },
                                {
                                    "0": "A Scandal in Bohemia (The Adventures of Sherlock Holmes, #1)",
                                    "1": "Ronald Holt, Arthur Conan Doyle",
                                    "2": "NULL"
                                },
                                {
                                    "0": "The Brethren",
                                    "1": "John Grisham",
                                    "2": "NULL"
                                },
                                {
                                    "0": "The Case for Christ",
                                    "1": "Lee Strobel",
                                    "2": "NULL"
                                },
                                {
                                    "0": "The Complete Sherlock Holmes, Vol 2",
                                    "1": "Arthur Conan Doyle, Kyle Freeman",
                                    "2": "NULL"
                                },
                                {
                                    "0": "The Pilgrim's Progress",
                                    "1": "John Bunyan",
                                    "2": "NULL"
                                },
                                {
                                    "0": "Janet Evanovich Three and Four Two-Book Set (Stephanie Plum, #3-4)",
                                    "1": "Janet Evanovich",
                                    "2": "NULL"
                                },
                                {
                                    "0": "Magician's Gambit (The Belgariad, #3)",
                                    "1": "David Eddings",
                                    "2": "NULL"
                                },
                                {
                                    "0": "Keeping Faith",
                                    "1": "Jodi Picoult",
                                    "2": "NULL"
                                }
                            ]
                        },
                        "text/html": [
                            "<table>",
                            "<tr><th>title</th><th>authors</th><th>language_code</th></tr>",
                            "<tr><td>Life of Pi</td><td>Yann Martel</td><td>NULL</td></tr>",
                            "<tr><td>The Five People You Meet in Heaven</td><td>Mitch Albom</td><td>NULL</td></tr>",
                            "<tr><td>A Christmas Carol</td><td>Charles Dickens</td><td>NULL</td></tr>",
                            "<tr><td>Carrie</td><td>Stephen King</td><td>NULL</td></tr>",
                            "<tr><td>The Hunt for Red October (Jack Ryan Universe, #4)</td><td>Tom Clancy</td><td>NULL</td></tr>",
                            "<tr><td>Where the Red Fern Grows</td><td>Wilson Rawls</td><td>NULL</td></tr>",
                            "<tr><td>Fried Green Tomatoes at the Whistle Stop Cafe</td><td>Fannie Flagg</td><td>NULL</td></tr>",
                            "<tr><td>The Three Musketeers</td><td>Alexandre Dumas</td><td>NULL</td></tr>",
                            "<tr><td>In Her Shoes</td><td>Jennifer Weiner</td><td>NULL</td></tr>",
                            "<tr><td>The Andromeda Strain</td><td>Michael Crichton</td><td>NULL</td></tr>",
                            "<tr><td>Needful Things</td><td>Stephen King</td><td>NULL</td></tr>",
                            "<tr><td>Are You There, Vodka? It's Me, Chelsea</td><td>Chelsea Handler</td><td>NULL</td></tr>",
                            "<tr><td>Prey</td><td>Michael Crichton</td><td>NULL</td></tr>",
                            "<tr><td>Mrs. Frisby and the Rats of NIMH (Rats of NIMH, #1)</td><td>Robert C. O'Brien</td><td>NULL</td></tr>",
                            "<tr><td>The Little House Collection (Little House, #1-9)</td><td>Laura Ingalls Wilder, Garth Williams</td><td>NULL</td></tr>",
                            "<tr><td>The Girls' Guide to Hunting and Fishing</td><td>Melissa Bank</td><td>NULL</td></tr>",
                            "<tr><td>Sh*t My Dad Says</td><td>Justin Halpern</td><td>NULL</td></tr>",
                            "<tr><td>The Four Agreements: A Practical Guide to Personal Freedom</td><td>Miguel Ruiz</td><td>NULL</td></tr>",
                            "<tr><td>One Fish, Two Fish, Red Fish, Blue Fish</td><td>Dr. Seuss</td><td>NULL</td></tr>",
                            "<tr><td>Watchers</td><td>Dean Koontz</td><td>NULL</td></tr>",
                            "<tr><td>Fifty Shades Trilogy (Fifty Shades, #1-3)</td><td>E.L. James</td><td>NULL</td></tr>",
                            "<tr><td>The Joy of Cooking</td><td>Irma S. Rombauer, Marion Rombauer Becker, Ethan Becker</td><td>NULL</td></tr>",
                            "<tr><td>The Complete Anne of Green Gables Boxed Set (Anne of Green Gables, #1-8)</td><td>L.M. Montgomery</td><td>NULL</td></tr>",
                            "<tr><td>The Partner</td><td>John Grisham</td><td>NULL</td></tr>",
                            "<tr><td>Presumed Innocent</td><td>Scott Turow</td><td>NULL</td></tr>",
                            "<tr><td>Dr. Seuss's Green Eggs and Ham: For Soprano, Boy Soprano, and Orchestra</td><td>Robert Kapilow, Dr. Seuss</td><td>NULL</td></tr>",
                            "<tr><td>Inferno (The Divine Comedy #1)</td><td>Dante Alighieri, Anthony M. Esolen</td><td>NULL</td></tr>",
                            "<tr><td>The Girl Who Loved Tom Gordon</td><td>Stephen King</td><td>NULL</td></tr>",
                            "<tr><td>The Twilight Saga (Twilight, #1-4)</td><td>Stephenie Meyer, Ilyana Kadushin, Matt Walters</td><td>NULL</td></tr>",
                            "<tr><td>The Secret Keeper</td><td>Kate Morton</td><td>NULL</td></tr>",
                            "<tr><td>Better Homes and Gardens New Cook Book  </td><td>Better Homes and Gardens</td><td>NULL</td></tr>",
                            "<tr><td>Reached (Matched, #3)</td><td>Ally Condie</td><td>NULL</td></tr>",
                            "<tr><td>The Testament</td><td>John Grisham</td><td>NULL</td></tr>",
                            "<tr><td>90 Minutes in Heaven: A True Story of Death and Life</td><td>Don Piper, Cecil Murphey</td><td>NULL</td></tr>",
                            "<tr><td>Sam's Letters to Jennifer</td><td>James Patterson</td><td>NULL</td></tr>",
                            "<tr><td>Little Earthquakes</td><td>Jennifer Weiner</td><td>NULL</td></tr>",
                            "<tr><td>Lullaby</td><td>Chuck Palahniuk</td><td>NULL</td></tr>",
                            "<tr><td>The English Patient</td><td>Michael Ondaatje</td><td>NULL</td></tr>",
                            "<tr><td>Warm Bodies (Warm Bodies, #1)</td><td>Isaac Marion</td><td>NULL</td></tr>",
                            "<tr><td>Cold Sassy Tree</td><td>Olive Ann Burns</td><td>NULL</td></tr>",
                            "<tr><td>Aristotle and Dante Discover the Secrets of the Universe (Aristotle and Dante Discover the Secrets of the Universe, #1)</td><td>Benjamin Alire Sáenz</td><td>NULL</td></tr>",
                            "<tr><td>Summer Sisters</td><td>Judy Blume</td><td>NULL</td></tr>",
                            "<tr><td>A Scandal in Bohemia (The Adventures of Sherlock Holmes, #1)</td><td>Ronald Holt, Arthur Conan Doyle</td><td>NULL</td></tr>",
                            "<tr><td>The Brethren</td><td>John Grisham</td><td>NULL</td></tr>",
                            "<tr><td>The Case for Christ</td><td>Lee Strobel</td><td>NULL</td></tr>",
                            "<tr><td>The Complete Sherlock Holmes, Vol 2</td><td>Arthur Conan Doyle, Kyle Freeman</td><td>NULL</td></tr>",
                            "<tr><td>The Pilgrim's Progress</td><td>John Bunyan</td><td>NULL</td></tr>",
                            "<tr><td>Janet Evanovich Three and Four Two-Book Set (Stephanie Plum, #3-4)</td><td>Janet Evanovich</td><td>NULL</td></tr>",
                            "<tr><td>Magician's Gambit (The Belgariad, #3)</td><td>David Eddings</td><td>NULL</td></tr>",
                            "<tr><td>Keeping Faith</td><td>Jodi Picoult</td><td>NULL</td></tr>",
                            "</table>"
                        ]
                    }
                }
            ],
            "execution_count": 16
        },
        {
            "cell_type": "markdown",
            "source": [
                "8.  Update the query in question 7 using COALESCE to change the language code values from NULL to 'unknown'.\n",
                "\n",
                "> A.  Has this changed the language\\_code  where the values are NULL?"
            ],
            "metadata": {
                "azdata_cell_guid": "17fd76a8-afa7-4d86-a200-2902d7310a2b"
            },
            "attachments": {}
        },
        {
            "cell_type": "code",
            "source": [
                "-- Code here:\r\n",
                "USE BooksDB\r\n",
                "SELECT  TOP (50) CONCAT(title, ' BY ', authors, ' IN ', COALESCE(language_code, 'UNKNOWN')) AS 'CONCATENATED COL WITH COALESCE-UNKNOWN'\r\n",
                "    FROM books \r\n",
                "    \r\n",
                "--FILTERING UNKNOWNS TO VERIFY THAT COALESCE WORKED\r\n",
                "USE BooksDB\r\n",
                "SELECT  TOP (50) CONCAT(title, ' BY ', authors, ' IN ', COALESCE(language_code, 'UNKNOWN')) AS 'CONCATENATED COL WITH COALESCE-UNKNOWN'\r\n",
                "FROM books \r\n",
                "WHERE CONCAT(title, ' BY ', authors, ' IN ', COALESCE(language_code, 'UNKNOWN')) LIKE '%UNKNOWN'"
            ],
            "metadata": {
                "azdata_cell_guid": "f9694996-4545-48b9-9981-325b5c590570",
                "language": "sql"
            },
            "outputs": [
                {
                    "output_type": "display_data",
                    "data": {
                        "text/html": "(50 rows affected)"
                    },
                    "metadata": {}
                },
                {
                    "output_type": "display_data",
                    "data": {
                        "text/html": "(50 rows affected)"
                    },
                    "metadata": {}
                },
                {
                    "output_type": "display_data",
                    "data": {
                        "text/html": "Total execution time: 00:00:00.135"
                    },
                    "metadata": {}
                },
                {
                    "output_type": "execute_result",
                    "metadata": {},
                    "execution_count": 20,
                    "data": {
                        "application/vnd.dataresource+json": {
                            "schema": {
                                "fields": [
                                    {
                                        "name": "CONCATENATED COL WITH COALESCE-UNKNOWN"
                                    }
                                ]
                            },
                            "data": [
                                {
                                    "0": "The Hunger Games (The Hunger Games, #1) BY Suzanne Collins IN eng"
                                },
                                {
                                    "0": "Harry Potter and the Sorcerer's Stone (Harry Potter, #1) BY J.K. Rowling, Mary GrandPré IN eng"
                                },
                                {
                                    "0": "Twilight (Twilight, #1) BY Stephenie Meyer IN en-US"
                                },
                                {
                                    "0": "To Kill a Mockingbird BY Harper Lee IN eng"
                                },
                                {
                                    "0": "The Great Gatsby BY F. Scott Fitzgerald IN eng"
                                },
                                {
                                    "0": "The Fault in Our Stars BY John Green IN eng"
                                },
                                {
                                    "0": "The Hobbit BY J.R.R. Tolkien IN en-US"
                                },
                                {
                                    "0": "The Catcher in the Rye BY J.D. Salinger IN eng"
                                },
                                {
                                    "0": "Angels & Demons  (Robert Langdon, #1) BY Dan Brown IN en-CA"
                                },
                                {
                                    "0": "Pride and Prejudice BY Jane Austen IN eng"
                                },
                                {
                                    "0": "The Kite Runner BY Khaled Hosseini IN eng"
                                },
                                {
                                    "0": "Divergent (Divergent, #1) BY Veronica Roth IN eng"
                                },
                                {
                                    "0": "1984 BY George Orwell, Erich Fromm, Celâl Üster IN eng"
                                },
                                {
                                    "0": "Animal Farm BY George Orwell IN eng"
                                },
                                {
                                    "0": "The Diary of a Young Girl BY Anne Frank, Eleanor Roosevelt, B.M. Mooyaart-Doubleday IN eng"
                                },
                                {
                                    "0": "The Girl with the Dragon Tattoo (Millennium, #1) BY Stieg Larsson, Reg Keeland IN eng"
                                },
                                {
                                    "0": "Catching Fire (The Hunger Games, #2) BY Suzanne Collins IN eng"
                                },
                                {
                                    "0": "Harry Potter and the Prisoner of Azkaban (Harry Potter, #3) BY J.K. Rowling, Mary GrandPré, Rufus Beck IN eng"
                                },
                                {
                                    "0": "The Fellowship of the Ring (The Lord of the Rings, #1) BY J.R.R. Tolkien IN eng"
                                },
                                {
                                    "0": "Mockingjay (The Hunger Games, #3) BY Suzanne Collins IN eng"
                                },
                                {
                                    "0": "Harry Potter and the Order of the Phoenix (Harry Potter, #5) BY J.K. Rowling, Mary GrandPré IN eng"
                                },
                                {
                                    "0": "The Lovely Bones BY Alice Sebold IN eng"
                                },
                                {
                                    "0": "Harry Potter and the Chamber of Secrets (Harry Potter, #2) BY J.K. Rowling, Mary GrandPré IN eng"
                                },
                                {
                                    "0": "Harry Potter and the Goblet of Fire (Harry Potter, #4) BY J.K. Rowling, Mary GrandPré IN eng"
                                },
                                {
                                    "0": "Harry Potter and the Deathly Hallows (Harry Potter, #7) BY J.K. Rowling, Mary GrandPré IN eng"
                                },
                                {
                                    "0": "The Da Vinci Code (Robert Langdon, #2) BY Dan Brown IN eng"
                                },
                                {
                                    "0": "Harry Potter and the Half-Blood Prince (Harry Potter, #6) BY J.K. Rowling, Mary GrandPré IN eng"
                                },
                                {
                                    "0": "Lord of the Flies BY William Golding IN eng"
                                },
                                {
                                    "0": "Romeo and Juliet BY William Shakespeare, Robert           Jackson IN eng"
                                },
                                {
                                    "0": "Gone Girl BY Gillian Flynn IN eng"
                                },
                                {
                                    "0": "The Help BY Kathryn Stockett IN eng"
                                },
                                {
                                    "0": "Of Mice and Men BY John Steinbeck IN eng"
                                },
                                {
                                    "0": "Memoirs of a Geisha BY Arthur Golden IN eng"
                                },
                                {
                                    "0": "Fifty Shades of Grey (Fifty Shades, #1) BY E.L. James IN eng"
                                },
                                {
                                    "0": "The Alchemist BY Paulo Coelho, Alan R. Clarke IN eng"
                                },
                                {
                                    "0": "The Giver (The Giver, #1) BY Lois Lowry IN eng"
                                },
                                {
                                    "0": "The Lion, the Witch, and the Wardrobe (Chronicles of Narnia, #1) BY C.S. Lewis IN eng"
                                },
                                {
                                    "0": "The Time Traveler's Wife BY Audrey Niffenegger IN eng"
                                },
                                {
                                    "0": "A Game of Thrones (A Song of Ice and Fire, #1) BY George R.R. Martin IN eng"
                                },
                                {
                                    "0": "Eat, Pray, Love BY Elizabeth Gilbert IN eng"
                                },
                                {
                                    "0": "The Lightning Thief (Percy Jackson and the Olympians, #1) BY Rick Riordan IN eng"
                                },
                                {
                                    "0": "Little Women (Little Women, #1) BY Louisa May Alcott IN en-US"
                                },
                                {
                                    "0": "Jane Eyre BY Charlotte Brontë, Michael Mason IN eng"
                                },
                                {
                                    "0": "The Notebook (The Notebook, #1) BY Nicholas Sparks IN eng"
                                },
                                {
                                    "0": "Life of Pi BY Yann Martel IN UNKNOWN"
                                },
                                {
                                    "0": "Water for Elephants BY Sara Gruen IN eng"
                                },
                                {
                                    "0": "The Book Thief BY Markus Zusak IN eng"
                                },
                                {
                                    "0": "Fahrenheit 451 BY Ray Bradbury IN spa"
                                },
                                {
                                    "0": "New Moon (Twilight, #2) BY Stephenie Meyer IN eng"
                                },
                                {
                                    "0": "Where the Sidewalk Ends BY Shel Silverstein IN eng"
                                }
                            ]
                        },
                        "text/html": [
                            "<table>",
                            "<tr><th>CONCATENATED COL WITH COALESCE-UNKNOWN</th></tr>",
                            "<tr><td>The Hunger Games (The Hunger Games, #1) BY Suzanne Collins IN eng</td></tr>",
                            "<tr><td>Harry Potter and the Sorcerer's Stone (Harry Potter, #1) BY J.K. Rowling, Mary GrandPré IN eng</td></tr>",
                            "<tr><td>Twilight (Twilight, #1) BY Stephenie Meyer IN en-US</td></tr>",
                            "<tr><td>To Kill a Mockingbird BY Harper Lee IN eng</td></tr>",
                            "<tr><td>The Great Gatsby BY F. Scott Fitzgerald IN eng</td></tr>",
                            "<tr><td>The Fault in Our Stars BY John Green IN eng</td></tr>",
                            "<tr><td>The Hobbit BY J.R.R. Tolkien IN en-US</td></tr>",
                            "<tr><td>The Catcher in the Rye BY J.D. Salinger IN eng</td></tr>",
                            "<tr><td>Angels &amp; Demons  (Robert Langdon, #1) BY Dan Brown IN en-CA</td></tr>",
                            "<tr><td>Pride and Prejudice BY Jane Austen IN eng</td></tr>",
                            "<tr><td>The Kite Runner BY Khaled Hosseini IN eng</td></tr>",
                            "<tr><td>Divergent (Divergent, #1) BY Veronica Roth IN eng</td></tr>",
                            "<tr><td>1984 BY George Orwell, Erich Fromm, Celâl Üster IN eng</td></tr>",
                            "<tr><td>Animal Farm BY George Orwell IN eng</td></tr>",
                            "<tr><td>The Diary of a Young Girl BY Anne Frank, Eleanor Roosevelt, B.M. Mooyaart-Doubleday IN eng</td></tr>",
                            "<tr><td>The Girl with the Dragon Tattoo (Millennium, #1) BY Stieg Larsson, Reg Keeland IN eng</td></tr>",
                            "<tr><td>Catching Fire (The Hunger Games, #2) BY Suzanne Collins IN eng</td></tr>",
                            "<tr><td>Harry Potter and the Prisoner of Azkaban (Harry Potter, #3) BY J.K. Rowling, Mary GrandPré, Rufus Beck IN eng</td></tr>",
                            "<tr><td>The Fellowship of the Ring (The Lord of the Rings, #1) BY J.R.R. Tolkien IN eng</td></tr>",
                            "<tr><td>Mockingjay (The Hunger Games, #3) BY Suzanne Collins IN eng</td></tr>",
                            "<tr><td>Harry Potter and the Order of the Phoenix (Harry Potter, #5) BY J.K. Rowling, Mary GrandPré IN eng</td></tr>",
                            "<tr><td>The Lovely Bones BY Alice Sebold IN eng</td></tr>",
                            "<tr><td>Harry Potter and the Chamber of Secrets (Harry Potter, #2) BY J.K. Rowling, Mary GrandPré IN eng</td></tr>",
                            "<tr><td>Harry Potter and the Goblet of Fire (Harry Potter, #4) BY J.K. Rowling, Mary GrandPré IN eng</td></tr>",
                            "<tr><td>Harry Potter and the Deathly Hallows (Harry Potter, #7) BY J.K. Rowling, Mary GrandPré IN eng</td></tr>",
                            "<tr><td>The Da Vinci Code (Robert Langdon, #2) BY Dan Brown IN eng</td></tr>",
                            "<tr><td>Harry Potter and the Half-Blood Prince (Harry Potter, #6) BY J.K. Rowling, Mary GrandPré IN eng</td></tr>",
                            "<tr><td>Lord of the Flies BY William Golding IN eng</td></tr>",
                            "<tr><td>Romeo and Juliet BY William Shakespeare, Robert           Jackson IN eng</td></tr>",
                            "<tr><td>Gone Girl BY Gillian Flynn IN eng</td></tr>",
                            "<tr><td>The Help BY Kathryn Stockett IN eng</td></tr>",
                            "<tr><td>Of Mice and Men BY John Steinbeck IN eng</td></tr>",
                            "<tr><td>Memoirs of a Geisha BY Arthur Golden IN eng</td></tr>",
                            "<tr><td>Fifty Shades of Grey (Fifty Shades, #1) BY E.L. James IN eng</td></tr>",
                            "<tr><td>The Alchemist BY Paulo Coelho, Alan R. Clarke IN eng</td></tr>",
                            "<tr><td>The Giver (The Giver, #1) BY Lois Lowry IN eng</td></tr>",
                            "<tr><td>The Lion, the Witch, and the Wardrobe (Chronicles of Narnia, #1) BY C.S. Lewis IN eng</td></tr>",
                            "<tr><td>The Time Traveler's Wife BY Audrey Niffenegger IN eng</td></tr>",
                            "<tr><td>A Game of Thrones (A Song of Ice and Fire, #1) BY George R.R. Martin IN eng</td></tr>",
                            "<tr><td>Eat, Pray, Love BY Elizabeth Gilbert IN eng</td></tr>",
                            "<tr><td>The Lightning Thief (Percy Jackson and the Olympians, #1) BY Rick Riordan IN eng</td></tr>",
                            "<tr><td>Little Women (Little Women, #1) BY Louisa May Alcott IN en-US</td></tr>",
                            "<tr><td>Jane Eyre BY Charlotte Brontë, Michael Mason IN eng</td></tr>",
                            "<tr><td>The Notebook (The Notebook, #1) BY Nicholas Sparks IN eng</td></tr>",
                            "<tr><td>Life of Pi BY Yann Martel IN UNKNOWN</td></tr>",
                            "<tr><td>Water for Elephants BY Sara Gruen IN eng</td></tr>",
                            "<tr><td>The Book Thief BY Markus Zusak IN eng</td></tr>",
                            "<tr><td>Fahrenheit 451 BY Ray Bradbury IN spa</td></tr>",
                            "<tr><td>New Moon (Twilight, #2) BY Stephenie Meyer IN eng</td></tr>",
                            "<tr><td>Where the Sidewalk Ends BY Shel Silverstein IN eng</td></tr>",
                            "</table>"
                        ]
                    }
                },
                {
                    "output_type": "execute_result",
                    "metadata": {},
                    "execution_count": 20,
                    "data": {
                        "application/vnd.dataresource+json": {
                            "schema": {
                                "fields": [
                                    {
                                        "name": "CONCATENATED COL WITH COALESCE-UNKNOWN"
                                    }
                                ]
                            },
                            "data": [
                                {
                                    "0": "Life of Pi BY Yann Martel IN UNKNOWN"
                                },
                                {
                                    "0": "The Five People You Meet in Heaven BY Mitch Albom IN UNKNOWN"
                                },
                                {
                                    "0": "A Christmas Carol BY Charles Dickens IN UNKNOWN"
                                },
                                {
                                    "0": "Carrie BY Stephen King IN UNKNOWN"
                                },
                                {
                                    "0": "The Hunt for Red October (Jack Ryan Universe, #4) BY Tom Clancy IN UNKNOWN"
                                },
                                {
                                    "0": "Where the Red Fern Grows BY Wilson Rawls IN UNKNOWN"
                                },
                                {
                                    "0": "Fried Green Tomatoes at the Whistle Stop Cafe BY Fannie Flagg IN UNKNOWN"
                                },
                                {
                                    "0": "The Three Musketeers BY Alexandre Dumas IN UNKNOWN"
                                },
                                {
                                    "0": "In Her Shoes BY Jennifer Weiner IN UNKNOWN"
                                },
                                {
                                    "0": "The Andromeda Strain BY Michael Crichton IN UNKNOWN"
                                },
                                {
                                    "0": "Needful Things BY Stephen King IN UNKNOWN"
                                },
                                {
                                    "0": "Are You There, Vodka? It's Me, Chelsea BY Chelsea Handler IN UNKNOWN"
                                },
                                {
                                    "0": "Prey BY Michael Crichton IN UNKNOWN"
                                },
                                {
                                    "0": "Mrs. Frisby and the Rats of NIMH (Rats of NIMH, #1) BY Robert C. O'Brien IN UNKNOWN"
                                },
                                {
                                    "0": "The Little House Collection (Little House, #1-9) BY Laura Ingalls Wilder, Garth Williams IN UNKNOWN"
                                },
                                {
                                    "0": "The Girls' Guide to Hunting and Fishing BY Melissa Bank IN UNKNOWN"
                                },
                                {
                                    "0": "Sh*t My Dad Says BY Justin Halpern IN UNKNOWN"
                                },
                                {
                                    "0": "The Four Agreements: A Practical Guide to Personal Freedom BY Miguel Ruiz IN UNKNOWN"
                                },
                                {
                                    "0": "One Fish, Two Fish, Red Fish, Blue Fish BY Dr. Seuss IN UNKNOWN"
                                },
                                {
                                    "0": "Watchers BY Dean Koontz IN UNKNOWN"
                                },
                                {
                                    "0": "Fifty Shades Trilogy (Fifty Shades, #1-3) BY E.L. James IN UNKNOWN"
                                },
                                {
                                    "0": "The Joy of Cooking BY Irma S. Rombauer, Marion Rombauer Becker, Ethan Becker IN UNKNOWN"
                                },
                                {
                                    "0": "The Complete Anne of Green Gables Boxed Set (Anne of Green Gables, #1-8) BY L.M. Montgomery IN UNKNOWN"
                                },
                                {
                                    "0": "The Partner BY John Grisham IN UNKNOWN"
                                },
                                {
                                    "0": "Presumed Innocent BY Scott Turow IN UNKNOWN"
                                },
                                {
                                    "0": "Dr. Seuss's Green Eggs and Ham: For Soprano, Boy Soprano, and Orchestra BY Robert Kapilow, Dr. Seuss IN UNKNOWN"
                                },
                                {
                                    "0": "Inferno (The Divine Comedy #1) BY Dante Alighieri, Anthony M. Esolen IN UNKNOWN"
                                },
                                {
                                    "0": "The Girl Who Loved Tom Gordon BY Stephen King IN UNKNOWN"
                                },
                                {
                                    "0": "The Twilight Saga (Twilight, #1-4) BY Stephenie Meyer, Ilyana Kadushin, Matt Walters IN UNKNOWN"
                                },
                                {
                                    "0": "The Secret Keeper BY Kate Morton IN UNKNOWN"
                                },
                                {
                                    "0": "Better Homes and Gardens New Cook Book   BY Better Homes and Gardens IN UNKNOWN"
                                },
                                {
                                    "0": "Reached (Matched, #3) BY Ally Condie IN UNKNOWN"
                                },
                                {
                                    "0": "The Testament BY John Grisham IN UNKNOWN"
                                },
                                {
                                    "0": "90 Minutes in Heaven: A True Story of Death and Life BY Don Piper, Cecil Murphey IN UNKNOWN"
                                },
                                {
                                    "0": "Sam's Letters to Jennifer BY James Patterson IN UNKNOWN"
                                },
                                {
                                    "0": "Little Earthquakes BY Jennifer Weiner IN UNKNOWN"
                                },
                                {
                                    "0": "Lullaby BY Chuck Palahniuk IN UNKNOWN"
                                },
                                {
                                    "0": "The English Patient BY Michael Ondaatje IN UNKNOWN"
                                },
                                {
                                    "0": "Warm Bodies (Warm Bodies, #1) BY Isaac Marion IN UNKNOWN"
                                },
                                {
                                    "0": "Cold Sassy Tree BY Olive Ann Burns IN UNKNOWN"
                                },
                                {
                                    "0": "Aristotle and Dante Discover the Secrets of the Universe (Aristotle and Dante Discover the Secrets of the Universe, #1) BY Benjamin Alire Sáenz IN UNKNOWN"
                                },
                                {
                                    "0": "Summer Sisters BY Judy Blume IN UNKNOWN"
                                },
                                {
                                    "0": "A Scandal in Bohemia (The Adventures of Sherlock Holmes, #1) BY Ronald Holt, Arthur Conan Doyle IN UNKNOWN"
                                },
                                {
                                    "0": "The Brethren BY John Grisham IN UNKNOWN"
                                },
                                {
                                    "0": "The Case for Christ BY Lee Strobel IN UNKNOWN"
                                },
                                {
                                    "0": "The Complete Sherlock Holmes, Vol 2 BY Arthur Conan Doyle, Kyle Freeman IN UNKNOWN"
                                },
                                {
                                    "0": "The Pilgrim's Progress BY John Bunyan IN UNKNOWN"
                                },
                                {
                                    "0": "Janet Evanovich Three and Four Two-Book Set (Stephanie Plum, #3-4) BY Janet Evanovich IN UNKNOWN"
                                },
                                {
                                    "0": "Magician's Gambit (The Belgariad, #3) BY David Eddings IN UNKNOWN"
                                },
                                {
                                    "0": "Keeping Faith BY Jodi Picoult IN UNKNOWN"
                                }
                            ]
                        },
                        "text/html": [
                            "<table>",
                            "<tr><th>CONCATENATED COL WITH COALESCE-UNKNOWN</th></tr>",
                            "<tr><td>Life of Pi BY Yann Martel IN UNKNOWN</td></tr>",
                            "<tr><td>The Five People You Meet in Heaven BY Mitch Albom IN UNKNOWN</td></tr>",
                            "<tr><td>A Christmas Carol BY Charles Dickens IN UNKNOWN</td></tr>",
                            "<tr><td>Carrie BY Stephen King IN UNKNOWN</td></tr>",
                            "<tr><td>The Hunt for Red October (Jack Ryan Universe, #4) BY Tom Clancy IN UNKNOWN</td></tr>",
                            "<tr><td>Where the Red Fern Grows BY Wilson Rawls IN UNKNOWN</td></tr>",
                            "<tr><td>Fried Green Tomatoes at the Whistle Stop Cafe BY Fannie Flagg IN UNKNOWN</td></tr>",
                            "<tr><td>The Three Musketeers BY Alexandre Dumas IN UNKNOWN</td></tr>",
                            "<tr><td>In Her Shoes BY Jennifer Weiner IN UNKNOWN</td></tr>",
                            "<tr><td>The Andromeda Strain BY Michael Crichton IN UNKNOWN</td></tr>",
                            "<tr><td>Needful Things BY Stephen King IN UNKNOWN</td></tr>",
                            "<tr><td>Are You There, Vodka? It's Me, Chelsea BY Chelsea Handler IN UNKNOWN</td></tr>",
                            "<tr><td>Prey BY Michael Crichton IN UNKNOWN</td></tr>",
                            "<tr><td>Mrs. Frisby and the Rats of NIMH (Rats of NIMH, #1) BY Robert C. O'Brien IN UNKNOWN</td></tr>",
                            "<tr><td>The Little House Collection (Little House, #1-9) BY Laura Ingalls Wilder, Garth Williams IN UNKNOWN</td></tr>",
                            "<tr><td>The Girls' Guide to Hunting and Fishing BY Melissa Bank IN UNKNOWN</td></tr>",
                            "<tr><td>Sh*t My Dad Says BY Justin Halpern IN UNKNOWN</td></tr>",
                            "<tr><td>The Four Agreements: A Practical Guide to Personal Freedom BY Miguel Ruiz IN UNKNOWN</td></tr>",
                            "<tr><td>One Fish, Two Fish, Red Fish, Blue Fish BY Dr. Seuss IN UNKNOWN</td></tr>",
                            "<tr><td>Watchers BY Dean Koontz IN UNKNOWN</td></tr>",
                            "<tr><td>Fifty Shades Trilogy (Fifty Shades, #1-3) BY E.L. James IN UNKNOWN</td></tr>",
                            "<tr><td>The Joy of Cooking BY Irma S. Rombauer, Marion Rombauer Becker, Ethan Becker IN UNKNOWN</td></tr>",
                            "<tr><td>The Complete Anne of Green Gables Boxed Set (Anne of Green Gables, #1-8) BY L.M. Montgomery IN UNKNOWN</td></tr>",
                            "<tr><td>The Partner BY John Grisham IN UNKNOWN</td></tr>",
                            "<tr><td>Presumed Innocent BY Scott Turow IN UNKNOWN</td></tr>",
                            "<tr><td>Dr. Seuss's Green Eggs and Ham: For Soprano, Boy Soprano, and Orchestra BY Robert Kapilow, Dr. Seuss IN UNKNOWN</td></tr>",
                            "<tr><td>Inferno (The Divine Comedy #1) BY Dante Alighieri, Anthony M. Esolen IN UNKNOWN</td></tr>",
                            "<tr><td>The Girl Who Loved Tom Gordon BY Stephen King IN UNKNOWN</td></tr>",
                            "<tr><td>The Twilight Saga (Twilight, #1-4) BY Stephenie Meyer, Ilyana Kadushin, Matt Walters IN UNKNOWN</td></tr>",
                            "<tr><td>The Secret Keeper BY Kate Morton IN UNKNOWN</td></tr>",
                            "<tr><td>Better Homes and Gardens New Cook Book   BY Better Homes and Gardens IN UNKNOWN</td></tr>",
                            "<tr><td>Reached (Matched, #3) BY Ally Condie IN UNKNOWN</td></tr>",
                            "<tr><td>The Testament BY John Grisham IN UNKNOWN</td></tr>",
                            "<tr><td>90 Minutes in Heaven: A True Story of Death and Life BY Don Piper, Cecil Murphey IN UNKNOWN</td></tr>",
                            "<tr><td>Sam's Letters to Jennifer BY James Patterson IN UNKNOWN</td></tr>",
                            "<tr><td>Little Earthquakes BY Jennifer Weiner IN UNKNOWN</td></tr>",
                            "<tr><td>Lullaby BY Chuck Palahniuk IN UNKNOWN</td></tr>",
                            "<tr><td>The English Patient BY Michael Ondaatje IN UNKNOWN</td></tr>",
                            "<tr><td>Warm Bodies (Warm Bodies, #1) BY Isaac Marion IN UNKNOWN</td></tr>",
                            "<tr><td>Cold Sassy Tree BY Olive Ann Burns IN UNKNOWN</td></tr>",
                            "<tr><td>Aristotle and Dante Discover the Secrets of the Universe (Aristotle and Dante Discover the Secrets of the Universe, #1) BY Benjamin Alire Sáenz IN UNKNOWN</td></tr>",
                            "<tr><td>Summer Sisters BY Judy Blume IN UNKNOWN</td></tr>",
                            "<tr><td>A Scandal in Bohemia (The Adventures of Sherlock Holmes, #1) BY Ronald Holt, Arthur Conan Doyle IN UNKNOWN</td></tr>",
                            "<tr><td>The Brethren BY John Grisham IN UNKNOWN</td></tr>",
                            "<tr><td>The Case for Christ BY Lee Strobel IN UNKNOWN</td></tr>",
                            "<tr><td>The Complete Sherlock Holmes, Vol 2 BY Arthur Conan Doyle, Kyle Freeman IN UNKNOWN</td></tr>",
                            "<tr><td>The Pilgrim's Progress BY John Bunyan IN UNKNOWN</td></tr>",
                            "<tr><td>Janet Evanovich Three and Four Two-Book Set (Stephanie Plum, #3-4) BY Janet Evanovich IN UNKNOWN</td></tr>",
                            "<tr><td>Magician's Gambit (The Belgariad, #3) BY David Eddings IN UNKNOWN</td></tr>",
                            "<tr><td>Keeping Faith BY Jodi Picoult IN UNKNOWN</td></tr>",
                            "</table>"
                        ]
                    }
                }
            ],
            "execution_count": 20
        },
        {
            "cell_type": "markdown",
            "source": [
                "9\\. Revisit question 7 using ISNULL instead of COALESCE.\n",
                "\n",
                "> A.  Has this changed the language\\_code  where the values are NULL?"
            ],
            "metadata": {
                "azdata_cell_guid": "57b87290-135f-478d-bf1c-2262759f8da5"
            },
            "attachments": {}
        },
        {
            "cell_type": "code",
            "source": [
                "-- Code here:\r\n",
                "\r\n",
                "USE BooksDB\r\n",
                "SELECT  TOP (50) CONCAT(title, ' BY ', authors, ' IN ', ISNULL(language_code, 'UNKNOWN')) AS 'CONCATENATED COL WITH ISNULL-UNKNOWN'\r\n",
                "FROM books \r\n",
                "WHERE CONCAT(title, ' BY ', authors, ' IN ', ISNULL(language_code, 'UNKNOWN')) LIKE '%UNKNOWN'\r\n",
                ""
            ],
            "metadata": {
                "azdata_cell_guid": "a9670717-6dc6-4685-9f62-7a588753b4a9",
                "language": "sql"
            },
            "outputs": [
                {
                    "output_type": "display_data",
                    "data": {
                        "text/html": "(50 rows affected)"
                    },
                    "metadata": {}
                },
                {
                    "output_type": "display_data",
                    "data": {
                        "text/html": "Total execution time: 00:00:00.120"
                    },
                    "metadata": {}
                },
                {
                    "output_type": "execute_result",
                    "metadata": {},
                    "execution_count": 22,
                    "data": {
                        "application/vnd.dataresource+json": {
                            "schema": {
                                "fields": [
                                    {
                                        "name": "CONCATENATED COL WITH ISNULL-UNKNOWN"
                                    }
                                ]
                            },
                            "data": [
                                {
                                    "0": "Life of Pi BY Yann Martel IN UNKNOWN"
                                },
                                {
                                    "0": "The Five People You Meet in Heaven BY Mitch Albom IN UNKNOWN"
                                },
                                {
                                    "0": "A Christmas Carol BY Charles Dickens IN UNKNOWN"
                                },
                                {
                                    "0": "Carrie BY Stephen King IN UNKNOWN"
                                },
                                {
                                    "0": "The Hunt for Red October (Jack Ryan Universe, #4) BY Tom Clancy IN UNKNOWN"
                                },
                                {
                                    "0": "Where the Red Fern Grows BY Wilson Rawls IN UNKNOWN"
                                },
                                {
                                    "0": "Fried Green Tomatoes at the Whistle Stop Cafe BY Fannie Flagg IN UNKNOWN"
                                },
                                {
                                    "0": "The Three Musketeers BY Alexandre Dumas IN UNKNOWN"
                                },
                                {
                                    "0": "In Her Shoes BY Jennifer Weiner IN UNKNOWN"
                                },
                                {
                                    "0": "The Andromeda Strain BY Michael Crichton IN UNKNOWN"
                                },
                                {
                                    "0": "Needful Things BY Stephen King IN UNKNOWN"
                                },
                                {
                                    "0": "Are You There, Vodka? It's Me, Chelsea BY Chelsea Handler IN UNKNOWN"
                                },
                                {
                                    "0": "Prey BY Michael Crichton IN UNKNOWN"
                                },
                                {
                                    "0": "Mrs. Frisby and the Rats of NIMH (Rats of NIMH, #1) BY Robert C. O'Brien IN UNKNOWN"
                                },
                                {
                                    "0": "The Little House Collection (Little House, #1-9) BY Laura Ingalls Wilder, Garth Williams IN UNKNOWN"
                                },
                                {
                                    "0": "The Girls' Guide to Hunting and Fishing BY Melissa Bank IN UNKNOWN"
                                },
                                {
                                    "0": "Sh*t My Dad Says BY Justin Halpern IN UNKNOWN"
                                },
                                {
                                    "0": "The Four Agreements: A Practical Guide to Personal Freedom BY Miguel Ruiz IN UNKNOWN"
                                },
                                {
                                    "0": "One Fish, Two Fish, Red Fish, Blue Fish BY Dr. Seuss IN UNKNOWN"
                                },
                                {
                                    "0": "Watchers BY Dean Koontz IN UNKNOWN"
                                },
                                {
                                    "0": "Fifty Shades Trilogy (Fifty Shades, #1-3) BY E.L. James IN UNKNOWN"
                                },
                                {
                                    "0": "The Joy of Cooking BY Irma S. Rombauer, Marion Rombauer Becker, Ethan Becker IN UNKNOWN"
                                },
                                {
                                    "0": "The Complete Anne of Green Gables Boxed Set (Anne of Green Gables, #1-8) BY L.M. Montgomery IN UNKNOWN"
                                },
                                {
                                    "0": "The Partner BY John Grisham IN UNKNOWN"
                                },
                                {
                                    "0": "Presumed Innocent BY Scott Turow IN UNKNOWN"
                                },
                                {
                                    "0": "Dr. Seuss's Green Eggs and Ham: For Soprano, Boy Soprano, and Orchestra BY Robert Kapilow, Dr. Seuss IN UNKNOWN"
                                },
                                {
                                    "0": "Inferno (The Divine Comedy #1) BY Dante Alighieri, Anthony M. Esolen IN UNKNOWN"
                                },
                                {
                                    "0": "The Girl Who Loved Tom Gordon BY Stephen King IN UNKNOWN"
                                },
                                {
                                    "0": "The Twilight Saga (Twilight, #1-4) BY Stephenie Meyer, Ilyana Kadushin, Matt Walters IN UNKNOWN"
                                },
                                {
                                    "0": "The Secret Keeper BY Kate Morton IN UNKNOWN"
                                },
                                {
                                    "0": "Better Homes and Gardens New Cook Book   BY Better Homes and Gardens IN UNKNOWN"
                                },
                                {
                                    "0": "Reached (Matched, #3) BY Ally Condie IN UNKNOWN"
                                },
                                {
                                    "0": "The Testament BY John Grisham IN UNKNOWN"
                                },
                                {
                                    "0": "90 Minutes in Heaven: A True Story of Death and Life BY Don Piper, Cecil Murphey IN UNKNOWN"
                                },
                                {
                                    "0": "Sam's Letters to Jennifer BY James Patterson IN UNKNOWN"
                                },
                                {
                                    "0": "Little Earthquakes BY Jennifer Weiner IN UNKNOWN"
                                },
                                {
                                    "0": "Lullaby BY Chuck Palahniuk IN UNKNOWN"
                                },
                                {
                                    "0": "The English Patient BY Michael Ondaatje IN UNKNOWN"
                                },
                                {
                                    "0": "Warm Bodies (Warm Bodies, #1) BY Isaac Marion IN UNKNOWN"
                                },
                                {
                                    "0": "Cold Sassy Tree BY Olive Ann Burns IN UNKNOWN"
                                },
                                {
                                    "0": "Aristotle and Dante Discover the Secrets of the Universe (Aristotle and Dante Discover the Secrets of the Universe, #1) BY Benjamin Alire Sáenz IN UNKNOWN"
                                },
                                {
                                    "0": "Summer Sisters BY Judy Blume IN UNKNOWN"
                                },
                                {
                                    "0": "A Scandal in Bohemia (The Adventures of Sherlock Holmes, #1) BY Ronald Holt, Arthur Conan Doyle IN UNKNOWN"
                                },
                                {
                                    "0": "The Brethren BY John Grisham IN UNKNOWN"
                                },
                                {
                                    "0": "The Case for Christ BY Lee Strobel IN UNKNOWN"
                                },
                                {
                                    "0": "The Complete Sherlock Holmes, Vol 2 BY Arthur Conan Doyle, Kyle Freeman IN UNKNOWN"
                                },
                                {
                                    "0": "The Pilgrim's Progress BY John Bunyan IN UNKNOWN"
                                },
                                {
                                    "0": "Janet Evanovich Three and Four Two-Book Set (Stephanie Plum, #3-4) BY Janet Evanovich IN UNKNOWN"
                                },
                                {
                                    "0": "Magician's Gambit (The Belgariad, #3) BY David Eddings IN UNKNOWN"
                                },
                                {
                                    "0": "Keeping Faith BY Jodi Picoult IN UNKNOWN"
                                }
                            ]
                        },
                        "text/html": [
                            "<table>",
                            "<tr><th>CONCATENATED COL WITH ISNULL-UNKNOWN</th></tr>",
                            "<tr><td>Life of Pi BY Yann Martel IN UNKNOWN</td></tr>",
                            "<tr><td>The Five People You Meet in Heaven BY Mitch Albom IN UNKNOWN</td></tr>",
                            "<tr><td>A Christmas Carol BY Charles Dickens IN UNKNOWN</td></tr>",
                            "<tr><td>Carrie BY Stephen King IN UNKNOWN</td></tr>",
                            "<tr><td>The Hunt for Red October (Jack Ryan Universe, #4) BY Tom Clancy IN UNKNOWN</td></tr>",
                            "<tr><td>Where the Red Fern Grows BY Wilson Rawls IN UNKNOWN</td></tr>",
                            "<tr><td>Fried Green Tomatoes at the Whistle Stop Cafe BY Fannie Flagg IN UNKNOWN</td></tr>",
                            "<tr><td>The Three Musketeers BY Alexandre Dumas IN UNKNOWN</td></tr>",
                            "<tr><td>In Her Shoes BY Jennifer Weiner IN UNKNOWN</td></tr>",
                            "<tr><td>The Andromeda Strain BY Michael Crichton IN UNKNOWN</td></tr>",
                            "<tr><td>Needful Things BY Stephen King IN UNKNOWN</td></tr>",
                            "<tr><td>Are You There, Vodka? It's Me, Chelsea BY Chelsea Handler IN UNKNOWN</td></tr>",
                            "<tr><td>Prey BY Michael Crichton IN UNKNOWN</td></tr>",
                            "<tr><td>Mrs. Frisby and the Rats of NIMH (Rats of NIMH, #1) BY Robert C. O'Brien IN UNKNOWN</td></tr>",
                            "<tr><td>The Little House Collection (Little House, #1-9) BY Laura Ingalls Wilder, Garth Williams IN UNKNOWN</td></tr>",
                            "<tr><td>The Girls' Guide to Hunting and Fishing BY Melissa Bank IN UNKNOWN</td></tr>",
                            "<tr><td>Sh*t My Dad Says BY Justin Halpern IN UNKNOWN</td></tr>",
                            "<tr><td>The Four Agreements: A Practical Guide to Personal Freedom BY Miguel Ruiz IN UNKNOWN</td></tr>",
                            "<tr><td>One Fish, Two Fish, Red Fish, Blue Fish BY Dr. Seuss IN UNKNOWN</td></tr>",
                            "<tr><td>Watchers BY Dean Koontz IN UNKNOWN</td></tr>",
                            "<tr><td>Fifty Shades Trilogy (Fifty Shades, #1-3) BY E.L. James IN UNKNOWN</td></tr>",
                            "<tr><td>The Joy of Cooking BY Irma S. Rombauer, Marion Rombauer Becker, Ethan Becker IN UNKNOWN</td></tr>",
                            "<tr><td>The Complete Anne of Green Gables Boxed Set (Anne of Green Gables, #1-8) BY L.M. Montgomery IN UNKNOWN</td></tr>",
                            "<tr><td>The Partner BY John Grisham IN UNKNOWN</td></tr>",
                            "<tr><td>Presumed Innocent BY Scott Turow IN UNKNOWN</td></tr>",
                            "<tr><td>Dr. Seuss's Green Eggs and Ham: For Soprano, Boy Soprano, and Orchestra BY Robert Kapilow, Dr. Seuss IN UNKNOWN</td></tr>",
                            "<tr><td>Inferno (The Divine Comedy #1) BY Dante Alighieri, Anthony M. Esolen IN UNKNOWN</td></tr>",
                            "<tr><td>The Girl Who Loved Tom Gordon BY Stephen King IN UNKNOWN</td></tr>",
                            "<tr><td>The Twilight Saga (Twilight, #1-4) BY Stephenie Meyer, Ilyana Kadushin, Matt Walters IN UNKNOWN</td></tr>",
                            "<tr><td>The Secret Keeper BY Kate Morton IN UNKNOWN</td></tr>",
                            "<tr><td>Better Homes and Gardens New Cook Book   BY Better Homes and Gardens IN UNKNOWN</td></tr>",
                            "<tr><td>Reached (Matched, #3) BY Ally Condie IN UNKNOWN</td></tr>",
                            "<tr><td>The Testament BY John Grisham IN UNKNOWN</td></tr>",
                            "<tr><td>90 Minutes in Heaven: A True Story of Death and Life BY Don Piper, Cecil Murphey IN UNKNOWN</td></tr>",
                            "<tr><td>Sam's Letters to Jennifer BY James Patterson IN UNKNOWN</td></tr>",
                            "<tr><td>Little Earthquakes BY Jennifer Weiner IN UNKNOWN</td></tr>",
                            "<tr><td>Lullaby BY Chuck Palahniuk IN UNKNOWN</td></tr>",
                            "<tr><td>The English Patient BY Michael Ondaatje IN UNKNOWN</td></tr>",
                            "<tr><td>Warm Bodies (Warm Bodies, #1) BY Isaac Marion IN UNKNOWN</td></tr>",
                            "<tr><td>Cold Sassy Tree BY Olive Ann Burns IN UNKNOWN</td></tr>",
                            "<tr><td>Aristotle and Dante Discover the Secrets of the Universe (Aristotle and Dante Discover the Secrets of the Universe, #1) BY Benjamin Alire Sáenz IN UNKNOWN</td></tr>",
                            "<tr><td>Summer Sisters BY Judy Blume IN UNKNOWN</td></tr>",
                            "<tr><td>A Scandal in Bohemia (The Adventures of Sherlock Holmes, #1) BY Ronald Holt, Arthur Conan Doyle IN UNKNOWN</td></tr>",
                            "<tr><td>The Brethren BY John Grisham IN UNKNOWN</td></tr>",
                            "<tr><td>The Case for Christ BY Lee Strobel IN UNKNOWN</td></tr>",
                            "<tr><td>The Complete Sherlock Holmes, Vol 2 BY Arthur Conan Doyle, Kyle Freeman IN UNKNOWN</td></tr>",
                            "<tr><td>The Pilgrim's Progress BY John Bunyan IN UNKNOWN</td></tr>",
                            "<tr><td>Janet Evanovich Three and Four Two-Book Set (Stephanie Plum, #3-4) BY Janet Evanovich IN UNKNOWN</td></tr>",
                            "<tr><td>Magician's Gambit (The Belgariad, #3) BY David Eddings IN UNKNOWN</td></tr>",
                            "<tr><td>Keeping Faith BY Jodi Picoult IN UNKNOWN</td></tr>",
                            "</table>"
                        ]
                    }
                }
            ],
            "execution_count": 22
        }
    ]
}